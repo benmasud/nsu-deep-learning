{
 "cells": [
  {
   "cell_type": "markdown",
   "metadata": {
    "collapsed": false
   },
   "source": [
    "# Лаба 2\n",
    "\n",
    "**Дедлайн**: 25 ноября\n",
    "\n",
    "**Задача**: написать определитель тональности текста (сообщениея в Twitter) c помощью fine-tuning-а на датасете RuSentiTweet (https://github.com/sismetanin/rusentitweet)\n",
    "\n",
    "На что обратить внимание:\n",
    "* (+)Подготовка данных (очистка, токенизация и упаковка датасета в удобный класс) - у вас в задании другой датасет, соответственно обработка может поменяться. В датасете несколько файлов, скачайте rusentitweet_full.csv и работайте с ним\n",
    "* (+)Процедура дообучения. Вам необходимо доработать имеющуюся процедуру:\n",
    "    * (+-) Добавить графики качества обучения модели в зависимости от шага (делать валидацию каждые 100 шагов (например), а не раз в эпоху)\n",
    "    * (+) Замерить время обучения\n",
    "    * (-) Добавить больше метрик для отслеживания (изучите по открытым источникам, какие метрики используются для задачи определения тональности и почему)\n",
    "        * ![](./images/img_1.png)\n",
    "    * (+) Добавить заморозку части слоев (все, кроме слоя классификации, или кроме слоя классификации + 2-3 последних слоев с интентами)\n",
    "    * (+-) Подобрать количество эпох, размер батча и заморозку так, чтобы модель давала лучший результат\n",
    "* (+)Модель для дообучения (попробуйте как минимум 2 разных модели), искать подходящие модели можно с помощью гугла и https://huggingface.co/\n",
    "* (+)Результаты **всех** экспериментов должны быть описаны в отдельной ячейке\n",
    "* (+)Inference модели - обученную модель нужно обернуть в удобную функцию для использования, которая по тексту будет возвращать его тональность\n",
    "\n",
    "\n",
    "https://www.youtube.com/watch?v=xI0HHN5XKDo"
   ]
  },
  {
   "cell_type": "markdown",
   "metadata": {
    "collapsed": false
   },
   "source": [
    "## Импорты"
   ]
  },
  {
   "cell_type": "code",
   "execution_count": 1,
   "metadata": {
    "collapsed": true
   },
   "outputs": [],
   "source": [
    "import typing, re, torch, os.path, sys, emot, torchmetrics, functools, gc\n",
    "\n",
    "from torch.utils.data.dataset import T_co\n",
    "\n",
    "# костыль, чтоб общий файлик сгрузить\n",
    "if not sys.path.__contains__('..'):\n",
    "    sys.path.insert(0, '..')\n",
    "import helper\n",
    "\n",
    "from num2words import num2words\n",
    "from cleantext import clean\n",
    "from pathlib import Path\n",
    "\n",
    "from torch.utils.data import TensorDataset, DataLoader, Dataset\n",
    "from transformers import BertTokenizer, BertForSequenceClassification\n",
    "from sklearn.model_selection import train_test_split\n",
    "from sklearn.metrics import f1_score\n",
    "from sklearn.utils import compute_class_weight\n",
    "\n",
    "import seaborn as sns\n",
    "import pandas as pd\n",
    "import numpy as np\n",
    "import matplotlib.pyplot as plt\n",
    "import tqdm.notebook as tqdm\n",
    "\n",
    "emot_core = emot.core.emot()"
   ]
  },
  {
   "cell_type": "code",
   "execution_count": null,
   "metadata": {},
   "outputs": [],
   "source": [
    "import importlib\n",
    "\n",
    "importlib.reload(helper)"
   ]
  },
  {
   "cell_type": "markdown",
   "metadata": {
    "collapsed": false
   },
   "source": [
    "## Константы"
   ]
  },
  {
   "cell_type": "code",
   "execution_count": 3,
   "metadata": {
    "collapsed": false
   },
   "outputs": [],
   "source": [
    "SEED = 42\n",
    "BATCH_SIZE = 32\n",
    "SPLIT_SIZE = 0.3\n",
    "NUM_WORKERS = 4\n",
    "device = \"cuda\" if torch.cuda.is_available() else \"cpu\""
   ]
  },
  {
   "cell_type": "markdown",
   "metadata": {
    "collapsed": false
   },
   "source": [
    "## Очистка данных"
   ]
  },
  {
   "cell_type": "markdown",
   "metadata": {
    "collapsed": false
   },
   "source": [
    "Разберемся с данными - уберем ненужные колонки, символы и т.д."
   ]
  },
  {
   "cell_type": "code",
   "execution_count": 4,
   "metadata": {
    "collapsed": false
   },
   "outputs": [
    {
     "data": {
      "text/plain": [
       "'на ой какие неожиданные сто результаты'"
      ]
     },
     "execution_count": 4,
     "metadata": {},
     "output_type": "execute_result"
    }
   ],
   "source": [
    "# Как всегда - на все случаи жизни есть библиотечки.\n",
    "# Однако зачем-то я решил настолько очисткой заморочиться, что даже эмотиконы вытащил, и вот на это библиотек не было\n",
    "\n",
    "def num2words_with_extract(text: typing.AnyStr) -> typing.AnyStr:\n",
    "    split_text = text.split(' ')\n",
    "    for idx, segment in enumerate(split_text):\n",
    "        if segment.isdigit():\n",
    "            split_text[idx] = num2words(segment, lang='ru')\n",
    "    return \" \".join(split_text)\n",
    "\n",
    "\n",
    "def remove_emoticons(text: typing.AnyStr, emot_core) -> typing.AnyStr:  # TODO: write your own emoticon regexp\n",
    "    res = emot_core.emoticons(text)\n",
    "    for emoticon in res['value']:\n",
    "        # print(emoticon)\n",
    "        regex = '(?:'\n",
    "        for symbol in [*emoticon]:\n",
    "            regex += (symbol if symbol.isalpha() or symbol.isdigit() else '\\\\' + symbol) + '+'\n",
    "        regex += ')'\n",
    "        # print(regex)\n",
    "        compiled = re.compile(regex)\n",
    "        text = compiled.sub(r'', text)\n",
    "    return text\n",
    "\n",
    "\n",
    "def clean_text(text: typing.AnyStr, emot_core=emot_core) -> typing.AnyStr:\n",
    "    text = clean(\n",
    "        text=text,\n",
    "        fix_unicode=False,  # fix various unicode errors\n",
    "        to_ascii=False,  # transliterate to closest ASCII representation\n",
    "        lower=True,  # lowercase text\n",
    "        no_line_breaks=True,  # fully strip line breaks as opposed to only normalizing them\n",
    "        no_urls=True,  # replace all URLs with a special token\n",
    "        no_emails=True,  # replace all email addresses with a special token\n",
    "        no_phone_numbers=True,  # replace all phone numbers with a special token\n",
    "        no_emoji=True,\n",
    "        no_numbers=False,  # replace all numbers with a special token\n",
    "        no_digits=False,  # replace all digits with a special token\n",
    "        no_currency_symbols=False,  # replace all currency symbols with a special token\n",
    "        no_punct=False,  # remove punctuations\n",
    "        normalize_whitespace=True,\n",
    "        replace_with_punct=\"\",  # instead of removing punctuations you may replace them\n",
    "        replace_with_url=\"\",\n",
    "        replace_with_email=\"\",\n",
    "        replace_with_phone_number=\"\",\n",
    "        replace_with_number=\"\",\n",
    "        replace_with_digit=\"\",\n",
    "        replace_with_currency_symbol=\"\",\n",
    "        # lang=\"en\"                       # set to 'de' for German special handling\n",
    "    )\n",
    "    tag_pattern = re.compile(\"@\\S+\")\n",
    "    dot_pattern = re.compile(\"\\.{2,}\")\n",
    "    text = tag_pattern.sub(r'', text)  # убираем теги юзеров\n",
    "    text = dot_pattern.sub(r'', text)  # убираем многоточия (на всякий случай, тк их много)\n",
    "    text = remove_emoticons(text, emot_core)  # убираем эмотиконы типа :) :-(((\n",
    "    text = num2words_with_extract(text)  # преобразуем цифры в текст\n",
    "    return \" \".join(text.split())  # normalize whitespaces\n",
    "\n",
    "\n",
    "# пример отработки\n",
    "clean_text(\n",
    "    \"@varlamov @McFa__ul bortnikov@mail.ru На Ой какие неожиданные ::-( :333 100 .......... результаты 🤭 https://t.co/ZwOHPDKUqq 88005553535\",\n",
    "    emot_core)"
   ]
  },
  {
   "cell_type": "code",
   "execution_count": 5,
   "metadata": {
    "collapsed": false
   },
   "outputs": [
    {
     "name": "stdout",
     "output_type": "stream",
     "text": [
      "Loading existing pickle\n"
     ]
    }
   ],
   "source": [
    "twitter_cut = None\n",
    "csv_path = Path(\"csv\")\n",
    "twitter_full_path = csv_path / \"twitter_full.csv\"\n",
    "twitter_cut_path = csv_path / \"twitter_cut.pickle\"\n",
    "\n",
    "twitter = pd.read_csv(twitter_full_path)\n",
    "\n",
    "if not os.path.exists(twitter_cut_path):\n",
    "    print(\"Clearing initial csv and saving to pickle\")\n",
    "    twitter_cut = twitter.drop([\"id\", \"Unnamed: 0\"], inplace=False, axis=1)  # .rename(columns={\"Unnamed: 0\": \"index\"})\n",
    "    twitter_cut = twitter_cut[twitter_cut[\"label\"] != \"skip\"]\n",
    "    twitter_cut = twitter_cut.reset_index()\n",
    "    twitter_cut.rename(columns={\"index\": \"old_idx\"}, inplace=True)\n",
    "    twitter_cut[\"text_clean\"] = twitter_cut[\"text\"].apply(clean_text)\n",
    "    twitter_cut.to_pickle(twitter_cut_path)\n",
    "else:\n",
    "    print(\"Loading existing pickle\")\n",
    "    twitter_cut = pd.read_pickle(\"./csv/twitter_cut.pickle\")\n"
   ]
  },
  {
   "cell_type": "code",
   "execution_count": 6,
   "metadata": {
    "collapsed": false
   },
   "outputs": [],
   "source": [
    "# twitter.head(10)"
   ]
  },
  {
   "cell_type": "code",
   "execution_count": 7,
   "metadata": {
    "collapsed": false
   },
   "outputs": [
    {
     "data": {
      "text/html": [
       "<div>\n",
       "<style scoped>\n",
       "    .dataframe tbody tr th:only-of-type {\n",
       "        vertical-align: middle;\n",
       "    }\n",
       "\n",
       "    .dataframe tbody tr th {\n",
       "        vertical-align: top;\n",
       "    }\n",
       "\n",
       "    .dataframe thead th {\n",
       "        text-align: right;\n",
       "    }\n",
       "</style>\n",
       "<table border=\"1\" class=\"dataframe\">\n",
       "  <thead>\n",
       "    <tr style=\"text-align: right;\">\n",
       "      <th></th>\n",
       "      <th>old_idx</th>\n",
       "      <th>text</th>\n",
       "      <th>label</th>\n",
       "      <th>text_clean</th>\n",
       "    </tr>\n",
       "  </thead>\n",
       "  <tbody>\n",
       "    <tr>\n",
       "      <th>0</th>\n",
       "      <td>1</td>\n",
       "      <td>велл они  всё равно что мусор так что ничего с...</td>\n",
       "      <td>negative</td>\n",
       "      <td>велл они всё равно что мусор так что ничего ст...</td>\n",
       "    </tr>\n",
       "    <tr>\n",
       "      <th>1</th>\n",
       "      <td>2</td>\n",
       "      <td>\"трезвая жизнь какая-то такая стрёмная\"\\r\\n(с)...</td>\n",
       "      <td>negative</td>\n",
       "      <td>\"трезвая жизнь какая-то такая стрёмная\" (с) ар...</td>\n",
       "    </tr>\n",
       "    <tr>\n",
       "      <th>2</th>\n",
       "      <td>3</td>\n",
       "      <td>Ой какие неожиданные результаты 🤭 https://t.co...</td>\n",
       "      <td>neutral</td>\n",
       "      <td>ой какие неожиданные результаты</td>\n",
       "    </tr>\n",
       "    <tr>\n",
       "      <th>3</th>\n",
       "      <td>4</td>\n",
       "      <td>@Shvonder_chief @dimsmirnov175 На заборе тоже ...</td>\n",
       "      <td>neutral</td>\n",
       "      <td>на заборе тоже написано,а там другое.о сборе д...</td>\n",
       "    </tr>\n",
       "    <tr>\n",
       "      <th>4</th>\n",
       "      <td>5</td>\n",
       "      <td>@idkwhht мы тоже мебельная компания уджина😳😳😳</td>\n",
       "      <td>neutral</td>\n",
       "      <td>мы тоже мебельная компания уджина</td>\n",
       "    </tr>\n",
       "    <tr>\n",
       "      <th>...</th>\n",
       "      <td>...</td>\n",
       "      <td>...</td>\n",
       "      <td>...</td>\n",
       "      <td>...</td>\n",
       "    </tr>\n",
       "    <tr>\n",
       "      <th>95</th>\n",
       "      <td>110</td>\n",
       "      <td>@snakey_ssnake Делать еще ╰(‵□′)╯ (мне понрави...</td>\n",
       "      <td>positive</td>\n",
       "      <td>делать еще ╰(‵□′)╯ (мне понравилось)</td>\n",
       "    </tr>\n",
       "    <tr>\n",
       "      <th>96</th>\n",
       "      <td>112</td>\n",
       "      <td>@cerealporridge 😭😭😭😭♥️♥️♥️♥️ спасибо 😭♥️♥️♥️♥️</td>\n",
       "      <td>speech</td>\n",
       "      <td>спасибо</td>\n",
       "    </tr>\n",
       "    <tr>\n",
       "      <th>97</th>\n",
       "      <td>114</td>\n",
       "      <td>В СевГУ прошел круглый стол по случаю Дня соли...</td>\n",
       "      <td>neutral</td>\n",
       "      <td>в севгу прошел круглый стол по случаю дня соли...</td>\n",
       "    </tr>\n",
       "    <tr>\n",
       "      <th>98</th>\n",
       "      <td>115</td>\n",
       "      <td>@great_knee Бро,моя тоже</td>\n",
       "      <td>neutral</td>\n",
       "      <td>бро,моя тоже</td>\n",
       "    </tr>\n",
       "    <tr>\n",
       "      <th>99</th>\n",
       "      <td>116</td>\n",
       "      <td>@GGuchenko @Ares29014619 @arlig23 @Stepan05244...</td>\n",
       "      <td>neutral</td>\n",
       "      <td>а что ты так перепугался то?</td>\n",
       "    </tr>\n",
       "  </tbody>\n",
       "</table>\n",
       "<p>100 rows × 4 columns</p>\n",
       "</div>"
      ],
      "text/plain": [
       "    old_idx                                               text     label  \\\n",
       "0         1  велл они  всё равно что мусор так что ничего с...  negative   \n",
       "1         2  \"трезвая жизнь какая-то такая стрёмная\"\\r\\n(с)...  negative   \n",
       "2         3  Ой какие неожиданные результаты 🤭 https://t.co...   neutral   \n",
       "3         4  @Shvonder_chief @dimsmirnov175 На заборе тоже ...   neutral   \n",
       "4         5      @idkwhht мы тоже мебельная компания уджина😳😳😳   neutral   \n",
       "..      ...                                                ...       ...   \n",
       "95      110  @snakey_ssnake Делать еще ╰(‵□′)╯ (мне понрави...  positive   \n",
       "96      112     @cerealporridge 😭😭😭😭♥️♥️♥️♥️ спасибо 😭♥️♥️♥️♥️    speech   \n",
       "97      114  В СевГУ прошел круглый стол по случаю Дня соли...   neutral   \n",
       "98      115                           @great_knee Бро,моя тоже   neutral   \n",
       "99      116  @GGuchenko @Ares29014619 @arlig23 @Stepan05244...   neutral   \n",
       "\n",
       "                                           text_clean  \n",
       "0   велл они всё равно что мусор так что ничего ст...  \n",
       "1   \"трезвая жизнь какая-то такая стрёмная\" (с) ар...  \n",
       "2                     ой какие неожиданные результаты  \n",
       "3   на заборе тоже написано,а там другое.о сборе д...  \n",
       "4                   мы тоже мебельная компания уджина  \n",
       "..                                                ...  \n",
       "95               делать еще ╰(‵□′)╯ (мне понравилось)  \n",
       "96                                            спасибо  \n",
       "97  в севгу прошел круглый стол по случаю дня соли...  \n",
       "98                                       бро,моя тоже  \n",
       "99                       а что ты так перепугался то?  \n",
       "\n",
       "[100 rows x 4 columns]"
      ]
     },
     "execution_count": 7,
     "metadata": {},
     "output_type": "execute_result"
    }
   ],
   "source": [
    "twitter_cut.head(100)"
   ]
  },
  {
   "cell_type": "code",
   "execution_count": 8,
   "metadata": {
    "collapsed": false
   },
   "outputs": [
    {
     "data": {
      "text/html": [
       "<div>\n",
       "<style scoped>\n",
       "    .dataframe tbody tr th:only-of-type {\n",
       "        vertical-align: middle;\n",
       "    }\n",
       "\n",
       "    .dataframe tbody tr th {\n",
       "        vertical-align: top;\n",
       "    }\n",
       "\n",
       "    .dataframe thead th {\n",
       "        text-align: right;\n",
       "    }\n",
       "</style>\n",
       "<table border=\"1\" class=\"dataframe\">\n",
       "  <thead>\n",
       "    <tr style=\"text-align: right;\">\n",
       "      <th></th>\n",
       "      <th>old_idx</th>\n",
       "      <th>text</th>\n",
       "      <th>label</th>\n",
       "      <th>text_clean</th>\n",
       "      <th>num_label</th>\n",
       "    </tr>\n",
       "  </thead>\n",
       "  <tbody>\n",
       "    <tr>\n",
       "      <th>0</th>\n",
       "      <td>1</td>\n",
       "      <td>велл они  всё равно что мусор так что ничего с...</td>\n",
       "      <td>negative</td>\n",
       "      <td>велл они всё равно что мусор так что ничего ст...</td>\n",
       "      <td>0</td>\n",
       "    </tr>\n",
       "    <tr>\n",
       "      <th>1</th>\n",
       "      <td>2</td>\n",
       "      <td>\"трезвая жизнь какая-то такая стрёмная\"\\r\\n(с)...</td>\n",
       "      <td>negative</td>\n",
       "      <td>\"трезвая жизнь какая-то такая стрёмная\" (с) ар...</td>\n",
       "      <td>0</td>\n",
       "    </tr>\n",
       "    <tr>\n",
       "      <th>2</th>\n",
       "      <td>3</td>\n",
       "      <td>Ой какие неожиданные результаты 🤭 https://t.co...</td>\n",
       "      <td>neutral</td>\n",
       "      <td>ой какие неожиданные результаты</td>\n",
       "      <td>1</td>\n",
       "    </tr>\n",
       "    <tr>\n",
       "      <th>3</th>\n",
       "      <td>4</td>\n",
       "      <td>@Shvonder_chief @dimsmirnov175 На заборе тоже ...</td>\n",
       "      <td>neutral</td>\n",
       "      <td>на заборе тоже написано,а там другое.о сборе д...</td>\n",
       "      <td>1</td>\n",
       "    </tr>\n",
       "    <tr>\n",
       "      <th>4</th>\n",
       "      <td>5</td>\n",
       "      <td>@idkwhht мы тоже мебельная компания уджина😳😳😳</td>\n",
       "      <td>neutral</td>\n",
       "      <td>мы тоже мебельная компания уджина</td>\n",
       "      <td>1</td>\n",
       "    </tr>\n",
       "    <tr>\n",
       "      <th>...</th>\n",
       "      <td>...</td>\n",
       "      <td>...</td>\n",
       "      <td>...</td>\n",
       "      <td>...</td>\n",
       "      <td>...</td>\n",
       "    </tr>\n",
       "    <tr>\n",
       "      <th>11544</th>\n",
       "      <td>13386</td>\n",
       "      <td>Это просто промокод и он одноразовый! https://...</td>\n",
       "      <td>neutral</td>\n",
       "      <td>это просто промокод и он одноразовый!</td>\n",
       "      <td>1</td>\n",
       "    </tr>\n",
       "    <tr>\n",
       "      <th>11545</th>\n",
       "      <td>13387</td>\n",
       "      <td>все пора спать пиздец словила шизу</td>\n",
       "      <td>negative</td>\n",
       "      <td>все пора спать пиздец словила шизу</td>\n",
       "      <td>0</td>\n",
       "    </tr>\n",
       "    <tr>\n",
       "      <th>11546</th>\n",
       "      <td>13388</td>\n",
       "      <td>такими темпами я создам новую секту или органи...</td>\n",
       "      <td>neutral</td>\n",
       "      <td>такими темпами я создам новую секту или органи...</td>\n",
       "      <td>1</td>\n",
       "    </tr>\n",
       "    <tr>\n",
       "      <th>11547</th>\n",
       "      <td>13389</td>\n",
       "      <td>Ты смотрела аниме, завернувшись в одеяло ,пока...</td>\n",
       "      <td>neutral</td>\n",
       "      <td>ты смотрела аниме, завернувшись в одеяло ,пока...</td>\n",
       "      <td>1</td>\n",
       "    </tr>\n",
       "    <tr>\n",
       "      <th>11548</th>\n",
       "      <td>13390</td>\n",
       "      <td>@AlyonaPikachu Пиздануться</td>\n",
       "      <td>negative</td>\n",
       "      <td>пиздануться</td>\n",
       "      <td>0</td>\n",
       "    </tr>\n",
       "  </tbody>\n",
       "</table>\n",
       "<p>11549 rows × 5 columns</p>\n",
       "</div>"
      ],
      "text/plain": [
       "       old_idx                                               text     label  \\\n",
       "0            1  велл они  всё равно что мусор так что ничего с...  negative   \n",
       "1            2  \"трезвая жизнь какая-то такая стрёмная\"\\r\\n(с)...  negative   \n",
       "2            3  Ой какие неожиданные результаты 🤭 https://t.co...   neutral   \n",
       "3            4  @Shvonder_chief @dimsmirnov175 На заборе тоже ...   neutral   \n",
       "4            5      @idkwhht мы тоже мебельная компания уджина😳😳😳   neutral   \n",
       "...        ...                                                ...       ...   \n",
       "11544    13386  Это просто промокод и он одноразовый! https://...   neutral   \n",
       "11545    13387                 все пора спать пиздец словила шизу  negative   \n",
       "11546    13388  такими темпами я создам новую секту или органи...   neutral   \n",
       "11547    13389  Ты смотрела аниме, завернувшись в одеяло ,пока...   neutral   \n",
       "11548    13390                         @AlyonaPikachu Пиздануться  negative   \n",
       "\n",
       "                                              text_clean  num_label  \n",
       "0      велл они всё равно что мусор так что ничего ст...          0  \n",
       "1      \"трезвая жизнь какая-то такая стрёмная\" (с) ар...          0  \n",
       "2                        ой какие неожиданные результаты          1  \n",
       "3      на заборе тоже написано,а там другое.о сборе д...          1  \n",
       "4                      мы тоже мебельная компания уджина          1  \n",
       "...                                                  ...        ...  \n",
       "11544              это просто промокод и он одноразовый!          1  \n",
       "11545                 все пора спать пиздец словила шизу          0  \n",
       "11546  такими темпами я создам новую секту или органи...          1  \n",
       "11547  ты смотрела аниме, завернувшись в одеяло ,пока...          1  \n",
       "11548                                        пиздануться          0  \n",
       "\n",
       "[11549 rows x 5 columns]"
      ]
     },
     "execution_count": 8,
     "metadata": {},
     "output_type": "execute_result"
    }
   ],
   "source": [
    "def label_to_int(label):\n",
    "    if label == 'negative':\n",
    "        return 0\n",
    "    elif label == 'neutral' or label == 'speech':\n",
    "        return 1\n",
    "    elif label == 'positive':\n",
    "        return 2\n",
    "\n",
    "\n",
    "twitter_cut[\"num_label\"] = twitter_cut[\"label\"].apply(label_to_int)\n",
    "\n",
    "twitter_cut"
   ]
  },
  {
   "cell_type": "code",
   "execution_count": 9,
   "metadata": {
    "collapsed": false
   },
   "outputs": [
    {
     "data": {
      "text/plain": [
       "[Text(0, 0, 'neg'), Text(1, 0, 'neu'), Text(2, 0, 'pos')]"
      ]
     },
     "execution_count": 9,
     "metadata": {},
     "output_type": "execute_result"
    },
    {
     "data": {
      "image/png": "[encoded data removed]",
      "text/plain": [
       "<Figure size 640x480 with 1 Axes>"
      ]
     },
     "metadata": {},
     "output_type": "display_data"
    }
   ],
   "source": [
    "ax = sns.countplot(data=twitter_cut, x=\"num_label\")\n",
    "ax.set_xticklabels([\"neg\", \"neu\", \"pos\"])"
   ]
  },
  {
   "cell_type": "markdown",
   "metadata": {
    "collapsed": false
   },
   "source": [
    "Из-за того, что speech ушел в neutral, то у нас возникает дисбаланс (возможно с этим стоило что-то сделать)"
   ]
  },
  {
   "cell_type": "markdown",
   "metadata": {
    "collapsed": false
   },
   "source": [
    "## Высокоуровневая предобработка"
   ]
  },
  {
   "cell_type": "markdown",
   "metadata": {
    "collapsed": false
   },
   "source": [
    "Сначала попробуем дистиллированную модель https://habr.com/ru/articles/562064/"
   ]
  },
  {
   "cell_type": "code",
   "execution_count": 10,
   "metadata": {
    "collapsed": false
   },
   "outputs": [],
   "source": [
    "tokenizer = BertTokenizer.from_pretrained(pretrained_model_name_or_path=\"cointegrated/rubert-tiny\")"
   ]
  },
  {
   "cell_type": "code",
   "execution_count": 11,
   "metadata": {
    "collapsed": false
   },
   "outputs": [],
   "source": [
    "def tokenize_tiny(text):\n",
    "    encoding = tokenizer.encode_plus(\n",
    "        text,\n",
    "        add_special_tokens=True,\n",
    "        max_length=64,\n",
    "        truncation=True,\n",
    "        padding='max_length',\n",
    "        return_attention_mask=True,\n",
    "        return_tensors='pt'\n",
    "    )\n",
    "    return pd.Series([encoding[\"input_ids\"], encoding[\"attention_mask\"]])"
   ]
  },
  {
   "cell_type": "markdown",
   "metadata": {
    "collapsed": false
   },
   "source": [
    "Вроде как можно написать кастомный класс датасета, но вроде как можно и не писать, так и не понял пока"
   ]
  },
  {
   "cell_type": "code",
   "execution_count": 12,
   "metadata": {
    "collapsed": false
   },
   "outputs": [],
   "source": [
    "twitter_cut_tiny = twitter_cut.copy()\n",
    "twitter_cut_tiny[[\"input_ids\", \"attention_mask\"]] = twitter_cut_tiny[\"text_clean\"].apply(tokenize_tiny)"
   ]
  },
  {
   "cell_type": "markdown",
   "metadata": {
    "collapsed": false
   },
   "source": [
    "Разделяем на трейн/тест"
   ]
  },
  {
   "cell_type": "code",
   "execution_count": 13,
   "metadata": {
    "collapsed": false
   },
   "outputs": [],
   "source": [
    "train_df, test_df = train_test_split(\n",
    "    twitter_cut_tiny,\n",
    "    test_size=SPLIT_SIZE,\n",
    "    shuffle=True,\n",
    "    stratify=twitter_cut_tiny['num_label'].values,\n",
    "    random_state=SEED\n",
    ")\n",
    "\n",
    "train_dataset, test_dataset, train_dataloader, test_dataloader = helper.prepare_ds_dl_transformer(\n",
    "    train_dataframe=train_df,\n",
    "    test_dataframe=test_df,\n",
    "    label_field_name=\"num_label\",\n",
    "    batch_size=BATCH_SIZE,\n",
    "    num_workers=NUM_WORKERS\n",
    ")"
   ]
  },
  {
   "cell_type": "markdown",
   "metadata": {
    "collapsed": false
   },
   "source": [
    "## Кидаем все это в модель"
   ]
  },
  {
   "cell_type": "code",
   "execution_count": 14,
   "metadata": {
    "collapsed": false
   },
   "outputs": [],
   "source": [
    "f1 = torchmetrics.F1Score(\n",
    "    task=\"multiclass\",\n",
    "    num_classes=3,\n",
    "    device=device\n",
    ").to(device)"
   ]
  },
  {
   "cell_type": "code",
   "execution_count": 15,
   "metadata": {
    "collapsed": false
   },
   "outputs": [],
   "source": [
    "# Заметка для себя - параметры тут https://huggingface.co/transformers/v2.9.1/main_classes/configuration.html\n",
    "\n",
    "def rubert_tiny_trainer(\n",
    "        epochs: int,\n",
    "        lr: float,\n",
    "        file_name: typing.AnyStr,\n",
    "        force_override: bool,\n",
    "        scheduler_gamma: float or None = None,\n",
    "        model: BertForSequenceClassification = None,\n",
    "):\n",
    "    torch.manual_seed(SEED)\n",
    "    torch.cuda.manual_seed(SEED)\n",
    "\n",
    "    rubert = None\n",
    "    if model is None:\n",
    "        rubert = BertForSequenceClassification.from_pretrained(\n",
    "            pretrained_model_name_or_path=\"cointegrated/rubert-tiny\",\n",
    "            num_labels=3,\n",
    "            output_attentions=False,\n",
    "            output_hidden_states=False,\n",
    "        )\n",
    "    else:\n",
    "        rubert = model\n",
    "\n",
    "    rubert.to(device)\n",
    "    rubert.name = file_name\n",
    "\n",
    "    rubert_optimizer = torch.optim.AdamW(\n",
    "        rubert.parameters(),\n",
    "        lr=lr,\n",
    "    )\n",
    "    scheduler = None\n",
    "    if scheduler_gamma is not None:\n",
    "        scheduler = torch.optim.lr_scheduler.ExponentialLR(\n",
    "            optimizer=rubert_optimizer,\n",
    "            gamma=scheduler_gamma,\n",
    "            verbose=True\n",
    "        )\n",
    "\n",
    "    return helper.model_trainer_with_saving(\n",
    "        model=rubert,\n",
    "        epochs=epochs,\n",
    "        train_dataloader=train_dataloader,\n",
    "        test_dataloader=test_dataloader,\n",
    "        loss_function=None,\n",
    "        optimizer=rubert_optimizer,\n",
    "        eval_function=f1,\n",
    "        device=device,\n",
    "        file_name=file_name,\n",
    "        scheduler=scheduler,\n",
    "        transformer=True,\n",
    "        force_override=force_override,\n",
    "        models_folder='models',\n",
    "        res_folder='model_res'\n",
    "    )\n",
    "\n",
    "\n",
    "class_names = [\"negative\", \"neutral\", \"positive\"]\n",
    "\n",
    "\n",
    "def tiny_results_show(model, results):\n",
    "    fig, (ax1, ax2) = plt.subplots(1, 2, figsize=(15, 5))\n",
    "\n",
    "    helper.model_eval_report(\n",
    "        model=model,\n",
    "        test_dataloader=test_dataloader,\n",
    "        test_dataset=test_dataset,\n",
    "        loss_function=None,\n",
    "        eval_function=f1,\n",
    "        device=device,\n",
    "        transformer=True,\n",
    "        class_names=class_names\n",
    "    )\n",
    "    # plt.rcParams['figure.figsize'] = [6, 5]\n",
    "    ax1.plot(results.history_test_loss[0], label='test_loss')\n",
    "    ax1.plot(results.history_train_loss[0], label='train_loss')\n",
    "    ax1.set_title('loss')\n",
    "    ax1.legend()\n",
    "    # plt.rcParams['figure.figsize'] = [6, 5]\n",
    "    ax2.plot(results.history_test_eval[0], label='test_eval')\n",
    "    ax2.plot(results.history_train_eval[0], label='train_eval')\n",
    "    ax2.set_title('eval')\n",
    "    ax2.legend()\n"
   ]
  },
  {
   "cell_type": "code",
   "execution_count": 16,
   "metadata": {
    "collapsed": false
   },
   "outputs": [
    {
     "name": "stderr",
     "output_type": "stream",
     "text": [
      "Some weights of the model checkpoint at cointegrated/rubert-tiny were not used when initializing BertForSequenceClassification: ['cls.predictions.transform.dense.weight', 'cls.predictions.decoder.bias', 'cls.seq_relationship.bias', 'cls.predictions.bias', 'cls.predictions.transform.dense.bias', 'cls.predictions.decoder.weight', 'cls.predictions.transform.LayerNorm.weight', 'cls.seq_relationship.weight', 'cls.predictions.transform.LayerNorm.bias']\n",
      "- This IS expected if you are initializing BertForSequenceClassification from the checkpoint of a model trained on another task or with another architecture (e.g. initializing a BertForSequenceClassification model from a BertForPreTraining model).\n",
      "- This IS NOT expected if you are initializing BertForSequenceClassification from the checkpoint of a model that you expect to be exactly identical (initializing a BertForSequenceClassification model from a BertForSequenceClassification model).\n",
      "Some weights of BertForSequenceClassification were not initialized from the model checkpoint at cointegrated/rubert-tiny and are newly initialized: ['classifier.bias', 'classifier.weight']\n",
      "You should probably TRAIN this model on a down-stream task to be able to use it for predictions and inference.\n"
     ]
    },
    {
     "name": "stdout",
     "output_type": "stream",
     "text": [
      "Loading existing model\n"
     ]
    }
   ],
   "source": [
    "rubert_tiny1, rubert_tiny_results1 = rubert_tiny_trainer(\n",
    "    epochs=15,\n",
    "    lr=3e-5,\n",
    "    force_override=False,\n",
    "    file_name=\"rubert_tiny_ep15_lr3e-5\"\n",
    ")"
   ]
  },
  {
   "cell_type": "markdown",
   "metadata": {
    "collapsed": false
   },
   "source": [
    "Как можно заметить - самому добавлять слои не пришлось, на выходе 3 фичи"
   ]
  },
  {
   "cell_type": "markdown",
   "metadata": {
    "collapsed": false
   },
   "source": []
  },
  {
   "cell_type": "markdown",
   "metadata": {
    "collapsed": false
   },
   "source": [
    "Наблюдаем очевиднейший оверфит?... Попробую уменьшить скорость обучения"
   ]
  },
  {
   "cell_type": "code",
   "execution_count": null,
   "metadata": {},
   "outputs": [],
   "source": [
    "tiny_results_show(\n",
    "    rubert_tiny1,\n",
    "    rubert_tiny_results1\n",
    ")"
   ]
  },
  {
   "cell_type": "code",
   "execution_count": 18,
   "metadata": {
    "collapsed": false
   },
   "outputs": [
    {
     "name": "stderr",
     "output_type": "stream",
     "text": [
      "Some weights of the model checkpoint at cointegrated/rubert-tiny were not used when initializing BertForSequenceClassification: ['cls.predictions.transform.dense.weight', 'cls.predictions.decoder.bias', 'cls.seq_relationship.bias', 'cls.predictions.bias', 'cls.predictions.transform.dense.bias', 'cls.predictions.decoder.weight', 'cls.predictions.transform.LayerNorm.weight', 'cls.seq_relationship.weight', 'cls.predictions.transform.LayerNorm.bias']\n",
      "- This IS expected if you are initializing BertForSequenceClassification from the checkpoint of a model trained on another task or with another architecture (e.g. initializing a BertForSequenceClassification model from a BertForPreTraining model).\n",
      "- This IS NOT expected if you are initializing BertForSequenceClassification from the checkpoint of a model that you expect to be exactly identical (initializing a BertForSequenceClassification model from a BertForSequenceClassification model).\n",
      "Some weights of BertForSequenceClassification were not initialized from the model checkpoint at cointegrated/rubert-tiny and are newly initialized: ['classifier.bias', 'classifier.weight']\n",
      "You should probably TRAIN this model on a down-stream task to be able to use it for predictions and inference.\n"
     ]
    },
    {
     "name": "stdout",
     "output_type": "stream",
     "text": [
      "Loading existing model\n"
     ]
    }
   ],
   "source": [
    "rubert_tiny2, rubert_tiny_results2 = rubert_tiny_trainer(\n",
    "    epochs=15,\n",
    "    lr=3e-6,\n",
    "    force_override=False,\n",
    "    file_name=\"rubert_tiny_ep15_lr3e-6\"\n",
    ")"
   ]
  },
  {
   "cell_type": "code",
   "execution_count": null,
   "metadata": {},
   "outputs": [],
   "source": [
    "tiny_results_show(\n",
    "    rubert_tiny2,\n",
    "    rubert_tiny_results2\n",
    ")"
   ]
  },
  {
   "cell_type": "markdown",
   "metadata": {
    "collapsed": false
   },
   "source": [
    "Получше, но все равно глохнет на 65%, попробую расписание добавить"
   ]
  },
  {
   "cell_type": "code",
   "execution_count": 20,
   "metadata": {
    "collapsed": false
   },
   "outputs": [
    {
     "name": "stderr",
     "output_type": "stream",
     "text": [
      "Some weights of the model checkpoint at cointegrated/rubert-tiny were not used when initializing BertForSequenceClassification: ['cls.predictions.transform.dense.weight', 'cls.predictions.decoder.bias', 'cls.seq_relationship.bias', 'cls.predictions.bias', 'cls.predictions.transform.dense.bias', 'cls.predictions.decoder.weight', 'cls.predictions.transform.LayerNorm.weight', 'cls.seq_relationship.weight', 'cls.predictions.transform.LayerNorm.bias']\n",
      "- This IS expected if you are initializing BertForSequenceClassification from the checkpoint of a model trained on another task or with another architecture (e.g. initializing a BertForSequenceClassification model from a BertForPreTraining model).\n",
      "- This IS NOT expected if you are initializing BertForSequenceClassification from the checkpoint of a model that you expect to be exactly identical (initializing a BertForSequenceClassification model from a BertForSequenceClassification model).\n",
      "Some weights of BertForSequenceClassification were not initialized from the model checkpoint at cointegrated/rubert-tiny and are newly initialized: ['classifier.bias', 'classifier.weight']\n",
      "You should probably TRAIN this model on a down-stream task to be able to use it for predictions and inference.\n"
     ]
    },
    {
     "name": "stdout",
     "output_type": "stream",
     "text": [
      "Adjusting learning rate of group 0 to 3.0000e-05.\n",
      "Loading existing model\n"
     ]
    }
   ],
   "source": [
    "rubert_tiny3, rubert_tiny_results3 = rubert_tiny_trainer(\n",
    "    epochs=15,\n",
    "    lr=3e-5,\n",
    "    scheduler_gamma=0.5,\n",
    "    force_override=False,\n",
    "    file_name=\"rubert_tiny_ep15_lr3e-5_gamma50\"\n",
    ")"
   ]
  },
  {
   "cell_type": "markdown",
   "metadata": {
    "collapsed": false
   },
   "source": [
    "Результаты лучше, но гамма будто большая, гасится раньше положенного"
   ]
  },
  {
   "cell_type": "code",
   "execution_count": null,
   "metadata": {},
   "outputs": [],
   "source": [
    "tiny_results_show(\n",
    "    rubert_tiny3,\n",
    "    rubert_tiny_results3\n",
    ")"
   ]
  },
  {
   "cell_type": "code",
   "execution_count": 87,
   "metadata": {
    "collapsed": false
   },
   "outputs": [
    {
     "name": "stderr",
     "output_type": "stream",
     "text": [
      "Some weights of the model checkpoint at cointegrated/rubert-tiny were not used when initializing BertForSequenceClassification: ['cls.predictions.transform.dense.weight', 'cls.predictions.decoder.bias', 'cls.seq_relationship.bias', 'cls.predictions.bias', 'cls.predictions.transform.dense.bias', 'cls.predictions.decoder.weight', 'cls.predictions.transform.LayerNorm.weight', 'cls.seq_relationship.weight', 'cls.predictions.transform.LayerNorm.bias']\n",
      "- This IS expected if you are initializing BertForSequenceClassification from the checkpoint of a model trained on another task or with another architecture (e.g. initializing a BertForSequenceClassification model from a BertForPreTraining model).\n",
      "- This IS NOT expected if you are initializing BertForSequenceClassification from the checkpoint of a model that you expect to be exactly identical (initializing a BertForSequenceClassification model from a BertForSequenceClassification model).\n",
      "Some weights of BertForSequenceClassification were not initialized from the model checkpoint at cointegrated/rubert-tiny and are newly initialized: ['classifier.bias', 'classifier.weight']\n",
      "You should probably TRAIN this model on a down-stream task to be able to use it for predictions and inference.\n"
     ]
    },
    {
     "name": "stdout",
     "output_type": "stream",
     "text": [
      "Adjusting learning rate of group 0 to 3.0000e-05.\n",
      "Loading existing model\n"
     ]
    }
   ],
   "source": [
    "rubert_tiny4, rubert_tiny_results4 = rubert_tiny_trainer(\n",
    "    epochs=15,\n",
    "    lr=3e-5,\n",
    "    scheduler_gamma=0.75,\n",
    "    force_override=False,\n",
    "    file_name=\"rubert_tiny_ep15_lr3e-5_gamma75\"\n",
    ")"
   ]
  },
  {
   "cell_type": "code",
   "execution_count": null,
   "metadata": {},
   "outputs": [],
   "source": [
    "tiny_results_show(\n",
    "    rubert_tiny4,\n",
    "    rubert_tiny_results4\n",
    ")"
   ]
  },
  {
   "cell_type": "markdown",
   "metadata": {
    "collapsed": false
   },
   "source": [
    "Примерно то же самое, но лосс на тесте рос, поэтому 0.5 гаммы было оптимально видимо"
   ]
  },
  {
   "cell_type": "markdown",
   "metadata": {
    "collapsed": false
   },
   "source": [
    "#### Check overfit"
   ]
  },
  {
   "cell_type": "code",
   "execution_count": 24,
   "metadata": {
    "collapsed": false
   },
   "outputs": [
    {
     "name": "stderr",
     "output_type": "stream",
     "text": [
      "Some weights of the model checkpoint at cointegrated/rubert-tiny were not used when initializing BertForSequenceClassification: ['cls.predictions.transform.dense.weight', 'cls.predictions.decoder.bias', 'cls.seq_relationship.bias', 'cls.predictions.bias', 'cls.predictions.transform.dense.bias', 'cls.predictions.decoder.weight', 'cls.predictions.transform.LayerNorm.weight', 'cls.seq_relationship.weight', 'cls.predictions.transform.LayerNorm.bias']\n",
      "- This IS expected if you are initializing BertForSequenceClassification from the checkpoint of a model trained on another task or with another architecture (e.g. initializing a BertForSequenceClassification model from a BertForPreTraining model).\n",
      "- This IS NOT expected if you are initializing BertForSequenceClassification from the checkpoint of a model that you expect to be exactly identical (initializing a BertForSequenceClassification model from a BertForSequenceClassification model).\n",
      "Some weights of BertForSequenceClassification were not initialized from the model checkpoint at cointegrated/rubert-tiny and are newly initialized: ['classifier.bias', 'classifier.weight']\n",
      "You should probably TRAIN this model on a down-stream task to be able to use it for predictions and inference.\n"
     ]
    },
    {
     "name": "stdout",
     "output_type": "stream",
     "text": [
      "Loading existing model\n"
     ]
    }
   ],
   "source": [
    "rubert_tiny_OF, rubert_tiny_results_OF = rubert_tiny_trainer(\n",
    "    epochs=50,\n",
    "    lr=5e-6,\n",
    "    force_override=False,\n",
    "    file_name=\"rubert_tiny_ep50_lr5e-6_OVERFIT_TEST\"\n",
    ")"
   ]
  },
  {
   "cell_type": "code",
   "execution_count": null,
   "metadata": {},
   "outputs": [],
   "source": [
    "tiny_results_show(\n",
    "    rubert_tiny_OF,\n",
    "    rubert_tiny_results_OF\n",
    ")"
   ]
  },
  {
   "cell_type": "markdown",
   "metadata": {
    "collapsed": false
   },
   "source": [
    "## Double descend"
   ]
  },
  {
   "cell_type": "markdown",
   "metadata": {
    "collapsed": false
   },
   "source": [
    "В общем на лекции нам расказали про эффект двойного спуска, меня это заинтересовало, прочитал оригинальную бумагу и решил проверить. Кинул на 5000 эпох, оставил коптиться на ~6 часов, в итоге компьютер скис с блускрином на 3000 эпохе. Поведения двойного спуска не было, тестлосс продолжал рости и никак не хотел разворачиваться обратно. Скорее всего, потому что дистилированная модель не оверпараметризованная и нужно брать берт/бертлардж для наблюдения эффекта. В сторону именно берта не копал, но по изначальной статье эффект должен наблюдаться и у трансформеров."
   ]
  },
  {
   "cell_type": "code",
   "execution_count": 26,
   "metadata": {
    "collapsed": false
   },
   "outputs": [],
   "source": [
    "# rubert_tiny, rubert_tiny_results = rubert_tiny_trainer(\n",
    "#     epochs=5000,\n",
    "#     lr=3e-6,\n",
    "#     force_override=False,\n",
    "#     file_name=\"rubert_tiny_ep5000_lr3e-6\"\n",
    "# )"
   ]
  },
  {
   "cell_type": "code",
   "execution_count": 27,
   "metadata": {
    "collapsed": false
   },
   "outputs": [],
   "source": [
    "# rubert_tiny_results_show(\n",
    "#     rubert_tiny,\n",
    "#     rubert_tiny_results\n",
    "# )"
   ]
  },
  {
   "cell_type": "markdown",
   "metadata": {
    "collapsed": false
   },
   "source": [
    "составим табличку результатов по rubert_tiny"
   ]
  },
  {
   "cell_type": "code",
   "execution_count": 28,
   "metadata": {
    "collapsed": false
   },
   "outputs": [
    {
     "data": {
      "text/html": [
       "<div>\n",
       "<style scoped>\n",
       "    .dataframe tbody tr th:only-of-type {\n",
       "        vertical-align: middle;\n",
       "    }\n",
       "\n",
       "    .dataframe tbody tr th {\n",
       "        vertical-align: top;\n",
       "    }\n",
       "\n",
       "    .dataframe thead th {\n",
       "        text-align: right;\n",
       "    }\n",
       "</style>\n",
       "<table border=\"1\" class=\"dataframe\">\n",
       "  <thead>\n",
       "    <tr style=\"text-align: right;\">\n",
       "      <th></th>\n",
       "      <th>name</th>\n",
       "      <th>class_name</th>\n",
       "      <th>status</th>\n",
       "      <th>epochs_remain</th>\n",
       "      <th>on_which_batch_broken</th>\n",
       "      <th>train_time</th>\n",
       "      <th>loss_function</th>\n",
       "      <th>optimizer</th>\n",
       "      <th>learning_rate</th>\n",
       "      <th>eval_function</th>\n",
       "      <th>device</th>\n",
       "      <th>end_test_loss</th>\n",
       "      <th>end_test_eval</th>\n",
       "      <th>end_train_loss</th>\n",
       "      <th>end_train_eval</th>\n",
       "      <th>history_test_loss</th>\n",
       "      <th>history_test_eval</th>\n",
       "      <th>history_train_loss</th>\n",
       "      <th>history_train_eval</th>\n",
       "    </tr>\n",
       "  </thead>\n",
       "  <tbody>\n",
       "    <tr>\n",
       "      <th>0</th>\n",
       "      <td>rubert_tiny_ep15_lr3e-5</td>\n",
       "      <td>BertForSequenceClassification</td>\n",
       "      <td>TrainStatus.Success</td>\n",
       "      <td>0</td>\n",
       "      <td>None</td>\n",
       "      <td>84.419073</td>\n",
       "      <td>NoneType</td>\n",
       "      <td>AdamW</td>\n",
       "      <td>3.000000e-05</td>\n",
       "      <td>MulticlassF1Score</td>\n",
       "      <td>cuda</td>\n",
       "      <td>1.498644</td>\n",
       "      <td>0.648159</td>\n",
       "      <td>0.122758</td>\n",
       "      <td>0.959536</td>\n",
       "      <td>[0.81073, 0.77603, 0.7722, 0.78766, 0.82281, 0...</td>\n",
       "      <td>[0.63781, 0.65775, 0.66922, 0.6718, 0.67094, 0...</td>\n",
       "      <td>[0.92728, 0.76131, 0.68418, 0.61027, 0.54613, ...</td>\n",
       "      <td>[0.56902, 0.67354, 0.71821, 0.75472, 0.79079, ...</td>\n",
       "    </tr>\n",
       "    <tr>\n",
       "      <th>0</th>\n",
       "      <td>rubert_tiny_ep15_lr3e-6</td>\n",
       "      <td>BertForSequenceClassification</td>\n",
       "      <td>TrainStatus.Success</td>\n",
       "      <td>0</td>\n",
       "      <td>None</td>\n",
       "      <td>80.687391</td>\n",
       "      <td>NoneType</td>\n",
       "      <td>AdamW</td>\n",
       "      <td>3.000000e-06</td>\n",
       "      <td>MulticlassF1Score</td>\n",
       "      <td>cuda</td>\n",
       "      <td>0.787649</td>\n",
       "      <td>0.645993</td>\n",
       "      <td>0.719137</td>\n",
       "      <td>0.695405</td>\n",
       "      <td>[1.02799, 0.99297, 0.96351, 0.92789, 0.89032, ...</td>\n",
       "      <td>[0.50707, 0.52039, 0.53832, 0.55995, 0.59566, ...</td>\n",
       "      <td>[1.06019, 1.00558, 0.97351, 0.93928, 0.90197, ...</td>\n",
       "      <td>[0.48434, 0.51294, 0.54049, 0.5626, 0.58841, 0...</td>\n",
       "    </tr>\n",
       "    <tr>\n",
       "      <th>0</th>\n",
       "      <td>rubert_tiny_ep15_lr3e-5_gamma50</td>\n",
       "      <td>BertForSequenceClassification</td>\n",
       "      <td>TrainStatus.Success</td>\n",
       "      <td>0</td>\n",
       "      <td>None</td>\n",
       "      <td>80.672499</td>\n",
       "      <td>NoneType</td>\n",
       "      <td>AdamW</td>\n",
       "      <td>9.155273e-10</td>\n",
       "      <td>MulticlassF1Score</td>\n",
       "      <td>cuda</td>\n",
       "      <td>0.778388</td>\n",
       "      <td>0.659627</td>\n",
       "      <td>0.676965</td>\n",
       "      <td>0.719121</td>\n",
       "      <td>[0.81073, 0.78908, 0.78093, 0.7806, 0.78153, 0...</td>\n",
       "      <td>[0.63781, 0.64628, 0.64886, 0.65259, 0.65431, ...</td>\n",
       "      <td>[0.92728, 0.76537, 0.72155, 0.69749, 0.69167, ...</td>\n",
       "      <td>[0.56902, 0.67488, 0.69669, 0.70413, 0.71104, ...</td>\n",
       "    </tr>\n",
       "    <tr>\n",
       "      <th>0</th>\n",
       "      <td>rubert_tiny_ep15_lr3e-5_gamma75</td>\n",
       "      <td>BertForSequenceClassification</td>\n",
       "      <td>TrainStatus.Success</td>\n",
       "      <td>0</td>\n",
       "      <td>None</td>\n",
       "      <td>81.819096</td>\n",
       "      <td>NoneType</td>\n",
       "      <td>AdamW</td>\n",
       "      <td>4.009038e-07</td>\n",
       "      <td>MulticlassF1Score</td>\n",
       "      <td>cuda</td>\n",
       "      <td>0.810899</td>\n",
       "      <td>0.666794</td>\n",
       "      <td>0.528303</td>\n",
       "      <td>0.798641</td>\n",
       "      <td>[0.81073, 0.78125, 0.77734, 0.77857, 0.7876, 0...</td>\n",
       "      <td>[0.63781, 0.64985, 0.65889, 0.66724, 0.66609, ...</td>\n",
       "      <td>[0.92728, 0.7626, 0.70039, 0.65345, 0.62534, 0...</td>\n",
       "      <td>[0.56902, 0.67421, 0.70677, 0.72994, 0.74978, ...</td>\n",
       "    </tr>\n",
       "  </tbody>\n",
       "</table>\n",
       "</div>"
      ],
      "text/plain": [
       "                              name                     class_name  \\\n",
       "0          rubert_tiny_ep15_lr3e-5  BertForSequenceClassification   \n",
       "0          rubert_tiny_ep15_lr3e-6  BertForSequenceClassification   \n",
       "0  rubert_tiny_ep15_lr3e-5_gamma50  BertForSequenceClassification   \n",
       "0  rubert_tiny_ep15_lr3e-5_gamma75  BertForSequenceClassification   \n",
       "\n",
       "                status  epochs_remain on_which_batch_broken  train_time  \\\n",
       "0  TrainStatus.Success              0                  None   84.419073   \n",
       "0  TrainStatus.Success              0                  None   80.687391   \n",
       "0  TrainStatus.Success              0                  None   80.672499   \n",
       "0  TrainStatus.Success              0                  None   81.819096   \n",
       "\n",
       "  loss_function optimizer  learning_rate      eval_function device  \\\n",
       "0      NoneType     AdamW   3.000000e-05  MulticlassF1Score   cuda   \n",
       "0      NoneType     AdamW   3.000000e-06  MulticlassF1Score   cuda   \n",
       "0      NoneType     AdamW   9.155273e-10  MulticlassF1Score   cuda   \n",
       "0      NoneType     AdamW   4.009038e-07  MulticlassF1Score   cuda   \n",
       "\n",
       "   end_test_loss  end_test_eval  end_train_loss  end_train_eval  \\\n",
       "0       1.498644       0.648159        0.122758        0.959536   \n",
       "0       0.787649       0.645993        0.719137        0.695405   \n",
       "0       0.778388       0.659627        0.676965        0.719121   \n",
       "0       0.810899       0.666794        0.528303        0.798641   \n",
       "\n",
       "                                   history_test_loss  \\\n",
       "0  [0.81073, 0.77603, 0.7722, 0.78766, 0.82281, 0...   \n",
       "0  [1.02799, 0.99297, 0.96351, 0.92789, 0.89032, ...   \n",
       "0  [0.81073, 0.78908, 0.78093, 0.7806, 0.78153, 0...   \n",
       "0  [0.81073, 0.78125, 0.77734, 0.77857, 0.7876, 0...   \n",
       "\n",
       "                                   history_test_eval  \\\n",
       "0  [0.63781, 0.65775, 0.66922, 0.6718, 0.67094, 0...   \n",
       "0  [0.50707, 0.52039, 0.53832, 0.55995, 0.59566, ...   \n",
       "0  [0.63781, 0.64628, 0.64886, 0.65259, 0.65431, ...   \n",
       "0  [0.63781, 0.64985, 0.65889, 0.66724, 0.66609, ...   \n",
       "\n",
       "                                  history_train_loss  \\\n",
       "0  [0.92728, 0.76131, 0.68418, 0.61027, 0.54613, ...   \n",
       "0  [1.06019, 1.00558, 0.97351, 0.93928, 0.90197, ...   \n",
       "0  [0.92728, 0.76537, 0.72155, 0.69749, 0.69167, ...   \n",
       "0  [0.92728, 0.7626, 0.70039, 0.65345, 0.62534, 0...   \n",
       "\n",
       "                                  history_train_eval  \n",
       "0  [0.56902, 0.67354, 0.71821, 0.75472, 0.79079, ...  \n",
       "0  [0.48434, 0.51294, 0.54049, 0.5626, 0.58841, 0...  \n",
       "0  [0.56902, 0.67488, 0.69669, 0.70413, 0.71104, ...  \n",
       "0  [0.56902, 0.67421, 0.70677, 0.72994, 0.74978, ...  "
      ]
     },
     "execution_count": 28,
     "metadata": {},
     "output_type": "execute_result"
    }
   ],
   "source": [
    "rubert_tiny_all = pd.concat([rubert_tiny_results1, rubert_tiny_results2, rubert_tiny_results3, rubert_tiny_results4])\n",
    "rubert_tiny_all"
   ]
  },
  {
   "cell_type": "markdown",
   "metadata": {
    "collapsed": false
   },
   "source": [
    "## Rubert-tiny freeze"
   ]
  },
  {
   "cell_type": "markdown",
   "metadata": {
    "collapsed": false
   },
   "source": [
    "Попробую заморозить все слои, кроме классифицирующего слоя"
   ]
  },
  {
   "cell_type": "markdown",
   "metadata": {
    "collapsed": false
   },
   "source": [
    "Посмотрим слои модели"
   ]
  },
  {
   "cell_type": "code",
   "execution_count": 29,
   "metadata": {
    "collapsed": false
   },
   "outputs": [
    {
     "name": "stderr",
     "output_type": "stream",
     "text": [
      "Some weights of the model checkpoint at cointegrated/rubert-tiny were not used when initializing BertForSequenceClassification: ['cls.predictions.transform.dense.weight', 'cls.predictions.decoder.bias', 'cls.seq_relationship.bias', 'cls.predictions.bias', 'cls.predictions.transform.dense.bias', 'cls.predictions.decoder.weight', 'cls.predictions.transform.LayerNorm.weight', 'cls.seq_relationship.weight', 'cls.predictions.transform.LayerNorm.bias']\n",
      "- This IS expected if you are initializing BertForSequenceClassification from the checkpoint of a model trained on another task or with another architecture (e.g. initializing a BertForSequenceClassification model from a BertForPreTraining model).\n",
      "- This IS NOT expected if you are initializing BertForSequenceClassification from the checkpoint of a model that you expect to be exactly identical (initializing a BertForSequenceClassification model from a BertForSequenceClassification model).\n",
      "Some weights of BertForSequenceClassification were not initialized from the model checkpoint at cointegrated/rubert-tiny and are newly initialized: ['classifier.bias', 'classifier.weight']\n",
      "You should probably TRAIN this model on a down-stream task to be able to use it for predictions and inference.\n"
     ]
    },
    {
     "data": {
      "text/plain": [
       "BertForSequenceClassification(\n",
       "  (bert): BertModel(\n",
       "    (embeddings): BertEmbeddings(\n",
       "      (word_embeddings): Embedding(29564, 312, padding_idx=0)\n",
       "      (position_embeddings): Embedding(512, 312)\n",
       "      (token_type_embeddings): Embedding(2, 312)\n",
       "      (LayerNorm): LayerNorm((312,), eps=1e-12, elementwise_affine=True)\n",
       "      (dropout): Dropout(p=0.1, inplace=False)\n",
       "    )\n",
       "    (encoder): BertEncoder(\n",
       "      (layer): ModuleList(\n",
       "        (0-2): 3 x BertLayer(\n",
       "          (attention): BertAttention(\n",
       "            (self): BertSelfAttention(\n",
       "              (query): Linear(in_features=312, out_features=312, bias=True)\n",
       "              (key): Linear(in_features=312, out_features=312, bias=True)\n",
       "              (value): Linear(in_features=312, out_features=312, bias=True)\n",
       "              (dropout): Dropout(p=0.1, inplace=False)\n",
       "            )\n",
       "            (output): BertSelfOutput(\n",
       "              (dense): Linear(in_features=312, out_features=312, bias=True)\n",
       "              (LayerNorm): LayerNorm((312,), eps=1e-12, elementwise_affine=True)\n",
       "              (dropout): Dropout(p=0.1, inplace=False)\n",
       "            )\n",
       "          )\n",
       "          (intermediate): BertIntermediate(\n",
       "            (dense): Linear(in_features=312, out_features=600, bias=True)\n",
       "            (intermediate_act_fn): GELUActivation()\n",
       "          )\n",
       "          (output): BertOutput(\n",
       "            (dense): Linear(in_features=600, out_features=312, bias=True)\n",
       "            (LayerNorm): LayerNorm((312,), eps=1e-12, elementwise_affine=True)\n",
       "            (dropout): Dropout(p=0.1, inplace=False)\n",
       "          )\n",
       "        )\n",
       "      )\n",
       "    )\n",
       "    (pooler): BertPooler(\n",
       "      (dense): Linear(in_features=312, out_features=312, bias=True)\n",
       "      (activation): Tanh()\n",
       "    )\n",
       "  )\n",
       "  (dropout): Dropout(p=0.1, inplace=False)\n",
       "  (classifier): Linear(in_features=312, out_features=3, bias=True)\n",
       ")"
      ]
     },
     "execution_count": 29,
     "metadata": {},
     "output_type": "execute_result"
    }
   ],
   "source": [
    "rubert_tiny_freeze1 = BertForSequenceClassification.from_pretrained(\n",
    "    pretrained_model_name_or_path=\"cointegrated/rubert-tiny\",\n",
    "    num_labels=3\n",
    ").to(device)\n",
    "\n",
    "rubert_tiny_freeze1"
   ]
  },
  {
   "cell_type": "markdown",
   "metadata": {
    "collapsed": false
   },
   "source": [
    "Оставляем только classifier"
   ]
  },
  {
   "cell_type": "code",
   "execution_count": 30,
   "metadata": {
    "collapsed": false
   },
   "outputs": [],
   "source": [
    "for name, param in rubert_tiny_freeze1.named_parameters():\n",
    "    if \"classifier\" not in name:\n",
    "        param.requires_grad = False"
   ]
  },
  {
   "cell_type": "code",
   "execution_count": 31,
   "metadata": {
    "collapsed": false
   },
   "outputs": [
    {
     "name": "stdout",
     "output_type": "stream",
     "text": [
      "Adjusting learning rate of group 0 to 3.0000e-03.\n",
      "Loading existing model\n"
     ]
    }
   ],
   "source": [
    "rubert_tiny_freeze1, rubert_tiny_freeze1_results = rubert_tiny_trainer(\n",
    "    epochs=30,\n",
    "    lr=3e-3,\n",
    "    scheduler_gamma=0.75,\n",
    "    force_override=False,\n",
    "    file_name=\"rubert_tiny_freeze_cls_ep15_lr3e-3_gamma75\",\n",
    "    model=rubert_tiny_freeze1\n",
    ")"
   ]
  },
  {
   "cell_type": "markdown",
   "metadata": {
    "collapsed": false
   },
   "source": [
    "Получилось хуже, чем без заморозки, но лучше, чем без фриза и с маленьким lr. Посмотрим что на графиках."
   ]
  },
  {
   "cell_type": "code",
   "execution_count": null,
   "metadata": {},
   "outputs": [],
   "source": [
    "tiny_results_show(\n",
    "    rubert_tiny_freeze1,\n",
    "    rubert_tiny_freeze1_results\n",
    ")"
   ]
  },
  {
   "cell_type": "markdown",
   "metadata": {
    "collapsed": false
   },
   "source": [
    "Попробую заморозить только эмбединги"
   ]
  },
  {
   "cell_type": "code",
   "execution_count": 33,
   "metadata": {
    "collapsed": false
   },
   "outputs": [
    {
     "name": "stderr",
     "output_type": "stream",
     "text": [
      "Some weights of the model checkpoint at cointegrated/rubert-tiny were not used when initializing BertForSequenceClassification: ['cls.predictions.transform.dense.weight', 'cls.predictions.decoder.bias', 'cls.seq_relationship.bias', 'cls.predictions.bias', 'cls.predictions.transform.dense.bias', 'cls.predictions.decoder.weight', 'cls.predictions.transform.LayerNorm.weight', 'cls.seq_relationship.weight', 'cls.predictions.transform.LayerNorm.bias']\n",
      "- This IS expected if you are initializing BertForSequenceClassification from the checkpoint of a model trained on another task or with another architecture (e.g. initializing a BertForSequenceClassification model from a BertForPreTraining model).\n",
      "- This IS NOT expected if you are initializing BertForSequenceClassification from the checkpoint of a model that you expect to be exactly identical (initializing a BertForSequenceClassification model from a BertForSequenceClassification model).\n",
      "Some weights of BertForSequenceClassification were not initialized from the model checkpoint at cointegrated/rubert-tiny and are newly initialized: ['classifier.bias', 'classifier.weight']\n",
      "You should probably TRAIN this model on a down-stream task to be able to use it for predictions and inference.\n"
     ]
    },
    {
     "name": "stdout",
     "output_type": "stream",
     "text": [
      "Adjusting learning rate of group 0 to 8.0000e-04.\n",
      "Loading existing model\n"
     ]
    }
   ],
   "source": [
    "rubert_tiny_freeze2 = BertForSequenceClassification.from_pretrained(\n",
    "    pretrained_model_name_or_path=\"cointegrated/rubert-tiny\",\n",
    "    num_labels=3\n",
    ").to(device)\n",
    "for name, param in rubert_tiny_freeze2.named_parameters():\n",
    "    if \"embeddings\" not in name and \"classifier\" not in name:\n",
    "        param.requires_grad = False\n",
    "rubert_tiny_freeze2, rubert_tiny_freeze2_results = rubert_tiny_trainer(\n",
    "    epochs=30,\n",
    "    lr=8e-4,\n",
    "    scheduler_gamma=0.75,\n",
    "    force_override=False,\n",
    "    file_name=\"rubert_tiny_freeze_emb_cls_ep15_lr8e-4_gamma75\",\n",
    "    model=rubert_tiny_freeze2\n",
    ")"
   ]
  },
  {
   "cell_type": "code",
   "execution_count": null,
   "metadata": {},
   "outputs": [],
   "source": [
    "tiny_results_show(\n",
    "    rubert_tiny_freeze2,\n",
    "    rubert_tiny_freeze2_results\n",
    ")"
   ]
  },
  {
   "cell_type": "markdown",
   "metadata": {
    "collapsed": false
   },
   "source": [
    "Интерпретировать могу только так - хватило первого эпохи на дообучение, потом модель пошла на переобучение. Попробую теперь вместо эмбедингов заморозить энкодер."
   ]
  },
  {
   "cell_type": "code",
   "execution_count": 35,
   "metadata": {
    "collapsed": false
   },
   "outputs": [
    {
     "name": "stderr",
     "output_type": "stream",
     "text": [
      "Some weights of the model checkpoint at cointegrated/rubert-tiny were not used when initializing BertForSequenceClassification: ['cls.predictions.transform.dense.weight', 'cls.predictions.decoder.bias', 'cls.seq_relationship.bias', 'cls.predictions.bias', 'cls.predictions.transform.dense.bias', 'cls.predictions.decoder.weight', 'cls.predictions.transform.LayerNorm.weight', 'cls.seq_relationship.weight', 'cls.predictions.transform.LayerNorm.bias']\n",
      "- This IS expected if you are initializing BertForSequenceClassification from the checkpoint of a model trained on another task or with another architecture (e.g. initializing a BertForSequenceClassification model from a BertForPreTraining model).\n",
      "- This IS NOT expected if you are initializing BertForSequenceClassification from the checkpoint of a model that you expect to be exactly identical (initializing a BertForSequenceClassification model from a BertForSequenceClassification model).\n",
      "Some weights of BertForSequenceClassification were not initialized from the model checkpoint at cointegrated/rubert-tiny and are newly initialized: ['classifier.bias', 'classifier.weight']\n",
      "You should probably TRAIN this model on a down-stream task to be able to use it for predictions and inference.\n"
     ]
    },
    {
     "name": "stdout",
     "output_type": "stream",
     "text": [
      "Loading existing model\n"
     ]
    }
   ],
   "source": [
    "rubert_tiny_freeze3 = BertForSequenceClassification.from_pretrained(\n",
    "    pretrained_model_name_or_path=\"cointegrated/rubert-tiny\",\n",
    "    num_labels=3\n",
    ").to(device)\n",
    "for name, param in rubert_tiny_freeze3.named_parameters():\n",
    "    if \"encoder\" in name or \"classifier\" in name:\n",
    "        param.requires_grad = False\n",
    "rubert_tiny_freeze3, rubert_tiny_freeze3_results = rubert_tiny_trainer(\n",
    "    epochs=30,\n",
    "    lr=1e-5,\n",
    "    # scheduler_gamma=0.75,\n",
    "    force_override=False,\n",
    "    file_name=\"rubert_tiny_freeze_enc_cls_ep15_lr1e-5\",\n",
    "    model=rubert_tiny_freeze3\n",
    ")"
   ]
  },
  {
   "cell_type": "code",
   "execution_count": null,
   "metadata": {},
   "outputs": [],
   "source": [
    "tiny_results_show(\n",
    "    rubert_tiny_freeze3,\n",
    "    rubert_tiny_freeze3_results\n",
    ")"
   ]
  },
  {
   "cell_type": "markdown",
   "metadata": {
    "collapsed": false
   },
   "source": [
    "Лучший результат - 66-67% f1, то есть все же идеальный результат был при разморозке всех слоёв. На этом с дистилированной моделью можно закончить и перейти к полноразмерной rubert, которая основана на bert-base."
   ]
  },
  {
   "cell_type": "code",
   "execution_count": 37,
   "metadata": {
    "collapsed": false
   },
   "outputs": [
    {
     "data": {
      "text/plain": [
       "0"
      ]
     },
     "execution_count": 37,
     "metadata": {},
     "output_type": "execute_result"
    }
   ],
   "source": [
    "# У меня где-то течет память на видеокарте, и это даже не помогает особо(( Возможно модели остаются на видюхе и не хотят уходить, потому что где-то еще висит референс на них\n",
    "\n",
    "del rubert_tiny1\n",
    "del rubert_tiny2\n",
    "del rubert_tiny3\n",
    "del rubert_tiny4\n",
    "del rubert_tiny_freeze1\n",
    "del rubert_tiny_freeze2\n",
    "del rubert_tiny_freeze3\n",
    "gc.collect()\n",
    "torch.cuda.empty_cache()\n",
    "gc.collect()"
   ]
  },
  {
   "cell_type": "markdown",
   "metadata": {
    "collapsed": false
   },
   "source": [
    "## Rubert-base"
   ]
  },
  {
   "cell_type": "code",
   "execution_count": 38,
   "metadata": {
    "collapsed": false
   },
   "outputs": [
    {
     "data": {
      "text/html": [
       "<div>\n",
       "<style scoped>\n",
       "    .dataframe tbody tr th:only-of-type {\n",
       "        vertical-align: middle;\n",
       "    }\n",
       "\n",
       "    .dataframe tbody tr th {\n",
       "        vertical-align: top;\n",
       "    }\n",
       "\n",
       "    .dataframe thead th {\n",
       "        text-align: right;\n",
       "    }\n",
       "</style>\n",
       "<table border=\"1\" class=\"dataframe\">\n",
       "  <thead>\n",
       "    <tr style=\"text-align: right;\">\n",
       "      <th></th>\n",
       "      <th>old_idx</th>\n",
       "      <th>text</th>\n",
       "      <th>label</th>\n",
       "      <th>text_clean</th>\n",
       "      <th>num_label</th>\n",
       "      <th>input_ids</th>\n",
       "      <th>attention_mask</th>\n",
       "    </tr>\n",
       "  </thead>\n",
       "  <tbody>\n",
       "    <tr>\n",
       "      <th>0</th>\n",
       "      <td>1</td>\n",
       "      <td>велл они  всё равно что мусор так что ничего с...</td>\n",
       "      <td>negative</td>\n",
       "      <td>велл они всё равно что мусор так что ничего ст...</td>\n",
       "      <td>0</td>\n",
       "      <td>[[tensor(101), tensor(12044), tensor(343), ten...</td>\n",
       "      <td>[[tensor(1), tensor(1), tensor(1), tensor(1), ...</td>\n",
       "    </tr>\n",
       "    <tr>\n",
       "      <th>1</th>\n",
       "      <td>2</td>\n",
       "      <td>\"трезвая жизнь какая-то такая стрёмная\"\\r\\n(с)...</td>\n",
       "      <td>negative</td>\n",
       "      <td>\"трезвая жизнь какая-то такая стрёмная\" (с) ар...</td>\n",
       "      <td>0</td>\n",
       "      <td>[[tensor(101), tensor(108), tensor(67121), ten...</td>\n",
       "      <td>[[tensor(1), tensor(1), tensor(1), tensor(1), ...</td>\n",
       "    </tr>\n",
       "    <tr>\n",
       "      <th>2</th>\n",
       "      <td>3</td>\n",
       "      <td>Ой какие неожиданные результаты 🤭 https://t.co...</td>\n",
       "      <td>neutral</td>\n",
       "      <td>ой какие неожиданные результаты</td>\n",
       "      <td>1</td>\n",
       "      <td>[[tensor(101), tensor(7537), tensor(1976), ten...</td>\n",
       "      <td>[[tensor(1), tensor(1), tensor(1), tensor(1), ...</td>\n",
       "    </tr>\n",
       "    <tr>\n",
       "      <th>3</th>\n",
       "      <td>4</td>\n",
       "      <td>@Shvonder_chief @dimsmirnov175 На заборе тоже ...</td>\n",
       "      <td>neutral</td>\n",
       "      <td>на заборе тоже написано,а там другое.о сборе д...</td>\n",
       "      <td>1</td>\n",
       "      <td>[[tensor(101), tensor(801), tensor(57939), ten...</td>\n",
       "      <td>[[tensor(1), tensor(1), tensor(1), tensor(1), ...</td>\n",
       "    </tr>\n",
       "    <tr>\n",
       "      <th>4</th>\n",
       "      <td>5</td>\n",
       "      <td>@idkwhht мы тоже мебельная компания уджина😳😳😳</td>\n",
       "      <td>neutral</td>\n",
       "      <td>мы тоже мебельная компания уджина</td>\n",
       "      <td>1</td>\n",
       "      <td>[[tensor(101), tensor(995), tensor(1187), tens...</td>\n",
       "      <td>[[tensor(1), tensor(1), tensor(1), tensor(1), ...</td>\n",
       "    </tr>\n",
       "    <tr>\n",
       "      <th>5</th>\n",
       "      <td>6</td>\n",
       "      <td>Счастья здоровья 10 классникам https://t.co/M9...</td>\n",
       "      <td>speech</td>\n",
       "      <td>счастья здоровья десять классникам</td>\n",
       "      <td>1</td>\n",
       "      <td>[[tensor(101), tensor(14053), tensor(9165), te...</td>\n",
       "      <td>[[tensor(1), tensor(1), tensor(1), tensor(1), ...</td>\n",
       "    </tr>\n",
       "    <tr>\n",
       "      <th>6</th>\n",
       "      <td>7</td>\n",
       "      <td>@dntbliev НЕ ПАЛИ.</td>\n",
       "      <td>neutral</td>\n",
       "      <td>не пали.</td>\n",
       "      <td>1</td>\n",
       "      <td>[[tensor(101), tensor(802), tensor(41952), ten...</td>\n",
       "      <td>[[tensor(1), tensor(1), tensor(1), tensor(1), ...</td>\n",
       "    </tr>\n",
       "    <tr>\n",
       "      <th>7</th>\n",
       "      <td>8</td>\n",
       "      <td>@BTS_twt ты такой красивый 😭😭😭🥺💓</td>\n",
       "      <td>positive</td>\n",
       "      <td>ты такой красивый</td>\n",
       "      <td>2</td>\n",
       "      <td>[[tensor(101), tensor(1006), tensor(1447), ten...</td>\n",
       "      <td>[[tensor(1), tensor(1), tensor(1), tensor(1), ...</td>\n",
       "    </tr>\n",
       "    <tr>\n",
       "      <th>8</th>\n",
       "      <td>9</td>\n",
       "      <td>@Ladyzchensk Цыган , хуле ...</td>\n",
       "      <td>negative</td>\n",
       "      <td>цыган , хуле</td>\n",
       "      <td>0</td>\n",
       "      <td>[[tensor(101), tensor(30607), tensor(128), ten...</td>\n",
       "      <td>[[tensor(1), tensor(1), tensor(1), tensor(1), ...</td>\n",
       "    </tr>\n",
       "    <tr>\n",
       "      <th>9</th>\n",
       "      <td>10</td>\n",
       "      <td>@nikogdanahui1 С днём рождения 🥳 \\r\\nУспехов и...</td>\n",
       "      <td>speech</td>\n",
       "      <td>с днём рождения успехов и побед тебе</td>\n",
       "      <td>1</td>\n",
       "      <td>[[tensor(101), tensor(336), tensor(20106), ten...</td>\n",
       "      <td>[[tensor(1), tensor(1), tensor(1), tensor(1), ...</td>\n",
       "    </tr>\n",
       "  </tbody>\n",
       "</table>\n",
       "</div>"
      ],
      "text/plain": [
       "   old_idx                                               text     label  \\\n",
       "0        1  велл они  всё равно что мусор так что ничего с...  negative   \n",
       "1        2  \"трезвая жизнь какая-то такая стрёмная\"\\r\\n(с)...  negative   \n",
       "2        3  Ой какие неожиданные результаты 🤭 https://t.co...   neutral   \n",
       "3        4  @Shvonder_chief @dimsmirnov175 На заборе тоже ...   neutral   \n",
       "4        5      @idkwhht мы тоже мебельная компания уджина😳😳😳   neutral   \n",
       "5        6  Счастья здоровья 10 классникам https://t.co/M9...    speech   \n",
       "6        7                                 @dntbliev НЕ ПАЛИ.   neutral   \n",
       "7        8                   @BTS_twt ты такой красивый 😭😭😭🥺💓  positive   \n",
       "8        9                      @Ladyzchensk Цыган , хуле ...  negative   \n",
       "9       10  @nikogdanahui1 С днём рождения 🥳 \\r\\nУспехов и...    speech   \n",
       "\n",
       "                                          text_clean  num_label  \\\n",
       "0  велл они всё равно что мусор так что ничего ст...          0   \n",
       "1  \"трезвая жизнь какая-то такая стрёмная\" (с) ар...          0   \n",
       "2                    ой какие неожиданные результаты          1   \n",
       "3  на заборе тоже написано,а там другое.о сборе д...          1   \n",
       "4                  мы тоже мебельная компания уджина          1   \n",
       "5                 счастья здоровья десять классникам          1   \n",
       "6                                           не пали.          1   \n",
       "7                                  ты такой красивый          2   \n",
       "8                                       цыган , хуле          0   \n",
       "9               с днём рождения успехов и побед тебе          1   \n",
       "\n",
       "                                           input_ids  \\\n",
       "0  [[tensor(101), tensor(12044), tensor(343), ten...   \n",
       "1  [[tensor(101), tensor(108), tensor(67121), ten...   \n",
       "2  [[tensor(101), tensor(7537), tensor(1976), ten...   \n",
       "3  [[tensor(101), tensor(801), tensor(57939), ten...   \n",
       "4  [[tensor(101), tensor(995), tensor(1187), tens...   \n",
       "5  [[tensor(101), tensor(14053), tensor(9165), te...   \n",
       "6  [[tensor(101), tensor(802), tensor(41952), ten...   \n",
       "7  [[tensor(101), tensor(1006), tensor(1447), ten...   \n",
       "8  [[tensor(101), tensor(30607), tensor(128), ten...   \n",
       "9  [[tensor(101), tensor(336), tensor(20106), ten...   \n",
       "\n",
       "                                      attention_mask  \n",
       "0  [[tensor(1), tensor(1), tensor(1), tensor(1), ...  \n",
       "1  [[tensor(1), tensor(1), tensor(1), tensor(1), ...  \n",
       "2  [[tensor(1), tensor(1), tensor(1), tensor(1), ...  \n",
       "3  [[tensor(1), tensor(1), tensor(1), tensor(1), ...  \n",
       "4  [[tensor(1), tensor(1), tensor(1), tensor(1), ...  \n",
       "5  [[tensor(1), tensor(1), tensor(1), tensor(1), ...  \n",
       "6  [[tensor(1), tensor(1), tensor(1), tensor(1), ...  \n",
       "7  [[tensor(1), tensor(1), tensor(1), tensor(1), ...  \n",
       "8  [[tensor(1), tensor(1), tensor(1), tensor(1), ...  \n",
       "9  [[tensor(1), tensor(1), tensor(1), tensor(1), ...  "
      ]
     },
     "execution_count": 38,
     "metadata": {},
     "output_type": "execute_result"
    }
   ],
   "source": [
    "tokenizer_base = BertTokenizer.from_pretrained(pretrained_model_name_or_path=\"blanchefort/rubert-base-cased-sentiment\")\n",
    "twitter_cut_base = twitter_cut.copy()\n",
    "\n",
    "\n",
    "def tokenize_base(text):\n",
    "    encoding = tokenizer_base.encode_plus(\n",
    "        text,\n",
    "        add_special_tokens=True,\n",
    "        max_length=64,\n",
    "        truncation=True,\n",
    "        padding='max_length',\n",
    "        return_attention_mask=True,\n",
    "        return_tensors='pt'\n",
    "    )\n",
    "    return pd.Series([encoding[\"input_ids\"], encoding[\"attention_mask\"]])\n",
    "\n",
    "\n",
    "twitter_cut_base[[\"input_ids\", \"attention_mask\"]] = twitter_cut_base[\"text_clean\"].apply(tokenize_base)\n",
    "\n",
    "train_df_base, test_df_base = train_test_split(\n",
    "    twitter_cut_base,\n",
    "    test_size=SPLIT_SIZE,\n",
    "    shuffle=True,\n",
    "    stratify=twitter_cut_base['num_label'].values,\n",
    "    random_state=SEED\n",
    ")\n",
    "\n",
    "train_dataset_base, test_dataset_base, train_dataloader_base, test_dataloader_base = helper.prepare_ds_dl_transformer(\n",
    "    train_dataframe=train_df_base,\n",
    "    test_dataframe=test_df_base,\n",
    "    label_field_name=\"num_label\",\n",
    "    batch_size=16,  # Поменьше чтоб память не так быстро улетала (хз поможет ли вообще)\n",
    "    num_workers=NUM_WORKERS\n",
    ")\n",
    "twitter_cut_base.head(10)"
   ]
  },
  {
   "cell_type": "code",
   "execution_count": 39,
   "metadata": {
    "collapsed": false
   },
   "outputs": [
    {
     "data": {
      "text/html": [
       "<div>\n",
       "<style scoped>\n",
       "    .dataframe tbody tr th:only-of-type {\n",
       "        vertical-align: middle;\n",
       "    }\n",
       "\n",
       "    .dataframe tbody tr th {\n",
       "        vertical-align: top;\n",
       "    }\n",
       "\n",
       "    .dataframe thead th {\n",
       "        text-align: right;\n",
       "    }\n",
       "</style>\n",
       "<table border=\"1\" class=\"dataframe\">\n",
       "  <thead>\n",
       "    <tr style=\"text-align: right;\">\n",
       "      <th></th>\n",
       "      <th>old_idx</th>\n",
       "      <th>text</th>\n",
       "      <th>label</th>\n",
       "      <th>text_clean</th>\n",
       "      <th>num_label</th>\n",
       "      <th>input_ids</th>\n",
       "      <th>attention_mask</th>\n",
       "    </tr>\n",
       "  </thead>\n",
       "  <tbody>\n",
       "    <tr>\n",
       "      <th>0</th>\n",
       "      <td>1</td>\n",
       "      <td>велл они  всё равно что мусор так что ничего с...</td>\n",
       "      <td>negative</td>\n",
       "      <td>велл они всё равно что мусор так что ничего ст...</td>\n",
       "      <td>0</td>\n",
       "      <td>[[tensor(2), tensor(314), tensor(2663), tensor...</td>\n",
       "      <td>[[tensor(1), tensor(1), tensor(1), tensor(1), ...</td>\n",
       "    </tr>\n",
       "    <tr>\n",
       "      <th>1</th>\n",
       "      <td>2</td>\n",
       "      <td>\"трезвая жизнь какая-то такая стрёмная\"\\r\\n(с)...</td>\n",
       "      <td>negative</td>\n",
       "      <td>\"трезвая жизнь какая-то такая стрёмная\" (с) ар...</td>\n",
       "      <td>0</td>\n",
       "      <td>[[tensor(2), tensor(6), tensor(330), tensor(27...</td>\n",
       "      <td>[[tensor(1), tensor(1), tensor(1), tensor(1), ...</td>\n",
       "    </tr>\n",
       "    <tr>\n",
       "      <th>2</th>\n",
       "      <td>3</td>\n",
       "      <td>Ой какие неожиданные результаты 🤭 https://t.co...</td>\n",
       "      <td>neutral</td>\n",
       "      <td>ой какие неожиданные результаты</td>\n",
       "      <td>1</td>\n",
       "      <td>[[tensor(2), tensor(23983), tensor(1150), tens...</td>\n",
       "      <td>[[tensor(1), tensor(1), tensor(1), tensor(1), ...</td>\n",
       "    </tr>\n",
       "    <tr>\n",
       "      <th>3</th>\n",
       "      <td>4</td>\n",
       "      <td>@Shvonder_chief @dimsmirnov175 На заборе тоже ...</td>\n",
       "      <td>neutral</td>\n",
       "      <td>на заборе тоже написано,а там другое.о сборе д...</td>\n",
       "      <td>1</td>\n",
       "      <td>[[tensor(2), tensor(548), tensor(650), tensor(...</td>\n",
       "      <td>[[tensor(1), tensor(1), tensor(1), tensor(1), ...</td>\n",
       "    </tr>\n",
       "    <tr>\n",
       "      <th>4</th>\n",
       "      <td>5</td>\n",
       "      <td>@idkwhht мы тоже мебельная компания уджина😳😳😳</td>\n",
       "      <td>neutral</td>\n",
       "      <td>мы тоже мебельная компания уджина</td>\n",
       "      <td>1</td>\n",
       "      <td>[[tensor(2), tensor(11521), tensor(19091), ten...</td>\n",
       "      <td>[[tensor(1), tensor(1), tensor(1), tensor(1), ...</td>\n",
       "    </tr>\n",
       "    <tr>\n",
       "      <th>5</th>\n",
       "      <td>6</td>\n",
       "      <td>Счастья здоровья 10 классникам https://t.co/M9...</td>\n",
       "      <td>speech</td>\n",
       "      <td>счастья здоровья десять классникам</td>\n",
       "      <td>1</td>\n",
       "      <td>[[tensor(2), tensor(329), tensor(14335), tenso...</td>\n",
       "      <td>[[tensor(1), tensor(1), tensor(1), tensor(1), ...</td>\n",
       "    </tr>\n",
       "    <tr>\n",
       "      <th>6</th>\n",
       "      <td>7</td>\n",
       "      <td>@dntbliev НЕ ПАЛИ.</td>\n",
       "      <td>neutral</td>\n",
       "      <td>не пали.</td>\n",
       "      <td>1</td>\n",
       "      <td>[[tensor(2), tensor(769), tensor(2189), tensor...</td>\n",
       "      <td>[[tensor(1), tensor(1), tensor(1), tensor(1), ...</td>\n",
       "    </tr>\n",
       "    <tr>\n",
       "      <th>7</th>\n",
       "      <td>8</td>\n",
       "      <td>@BTS_twt ты такой красивый 😭😭😭🥺💓</td>\n",
       "      <td>positive</td>\n",
       "      <td>ты такой красивый</td>\n",
       "      <td>2</td>\n",
       "      <td>[[tensor(2), tensor(23101), tensor(14050), ten...</td>\n",
       "      <td>[[tensor(1), tensor(1), tensor(1), tensor(1), ...</td>\n",
       "    </tr>\n",
       "    <tr>\n",
       "      <th>8</th>\n",
       "      <td>9</td>\n",
       "      <td>@Ladyzchensk Цыган , хуле ...</td>\n",
       "      <td>negative</td>\n",
       "      <td>цыган , хуле</td>\n",
       "      <td>0</td>\n",
       "      <td>[[tensor(2), tensor(334), tensor(10330), tenso...</td>\n",
       "      <td>[[tensor(1), tensor(1), tensor(1), tensor(1), ...</td>\n",
       "    </tr>\n",
       "    <tr>\n",
       "      <th>9</th>\n",
       "      <td>10</td>\n",
       "      <td>@nikogdanahui1 С днём рождения 🥳 \\r\\nУспехов и...</td>\n",
       "      <td>speech</td>\n",
       "      <td>с днём рождения успехов и побед тебе</td>\n",
       "      <td>1</td>\n",
       "      <td>[[tensor(2), tensor(329), tensor(316), tensor(...</td>\n",
       "      <td>[[tensor(1), tensor(1), tensor(1), tensor(1), ...</td>\n",
       "    </tr>\n",
       "  </tbody>\n",
       "</table>\n",
       "</div>"
      ],
      "text/plain": [
       "   old_idx                                               text     label  \\\n",
       "0        1  велл они  всё равно что мусор так что ничего с...  negative   \n",
       "1        2  \"трезвая жизнь какая-то такая стрёмная\"\\r\\n(с)...  negative   \n",
       "2        3  Ой какие неожиданные результаты 🤭 https://t.co...   neutral   \n",
       "3        4  @Shvonder_chief @dimsmirnov175 На заборе тоже ...   neutral   \n",
       "4        5      @idkwhht мы тоже мебельная компания уджина😳😳😳   neutral   \n",
       "5        6  Счастья здоровья 10 классникам https://t.co/M9...    speech   \n",
       "6        7                                 @dntbliev НЕ ПАЛИ.   neutral   \n",
       "7        8                   @BTS_twt ты такой красивый 😭😭😭🥺💓  positive   \n",
       "8        9                      @Ladyzchensk Цыган , хуле ...  negative   \n",
       "9       10  @nikogdanahui1 С днём рождения 🥳 \\r\\nУспехов и...    speech   \n",
       "\n",
       "                                          text_clean  num_label  \\\n",
       "0  велл они всё равно что мусор так что ничего ст...          0   \n",
       "1  \"трезвая жизнь какая-то такая стрёмная\" (с) ар...          0   \n",
       "2                    ой какие неожиданные результаты          1   \n",
       "3  на заборе тоже написано,а там другое.о сборе д...          1   \n",
       "4                  мы тоже мебельная компания уджина          1   \n",
       "5                 счастья здоровья десять классникам          1   \n",
       "6                                           не пали.          1   \n",
       "7                                  ты такой красивый          2   \n",
       "8                                       цыган , хуле          0   \n",
       "9               с днём рождения успехов и побед тебе          1   \n",
       "\n",
       "                                           input_ids  \\\n",
       "0  [[tensor(2), tensor(314), tensor(2663), tensor...   \n",
       "1  [[tensor(2), tensor(6), tensor(330), tensor(27...   \n",
       "2  [[tensor(2), tensor(23983), tensor(1150), tens...   \n",
       "3  [[tensor(2), tensor(548), tensor(650), tensor(...   \n",
       "4  [[tensor(2), tensor(11521), tensor(19091), ten...   \n",
       "5  [[tensor(2), tensor(329), tensor(14335), tenso...   \n",
       "6  [[tensor(2), tensor(769), tensor(2189), tensor...   \n",
       "7  [[tensor(2), tensor(23101), tensor(14050), ten...   \n",
       "8  [[tensor(2), tensor(334), tensor(10330), tenso...   \n",
       "9  [[tensor(2), tensor(329), tensor(316), tensor(...   \n",
       "\n",
       "                                      attention_mask  \n",
       "0  [[tensor(1), tensor(1), tensor(1), tensor(1), ...  \n",
       "1  [[tensor(1), tensor(1), tensor(1), tensor(1), ...  \n",
       "2  [[tensor(1), tensor(1), tensor(1), tensor(1), ...  \n",
       "3  [[tensor(1), tensor(1), tensor(1), tensor(1), ...  \n",
       "4  [[tensor(1), tensor(1), tensor(1), tensor(1), ...  \n",
       "5  [[tensor(1), tensor(1), tensor(1), tensor(1), ...  \n",
       "6  [[tensor(1), tensor(1), tensor(1), tensor(1), ...  \n",
       "7  [[tensor(1), tensor(1), tensor(1), tensor(1), ...  \n",
       "8  [[tensor(1), tensor(1), tensor(1), tensor(1), ...  \n",
       "9  [[tensor(1), tensor(1), tensor(1), tensor(1), ...  "
      ]
     },
     "execution_count": 39,
     "metadata": {},
     "output_type": "execute_result"
    }
   ],
   "source": [
    "twitter_cut_tiny.head(10)"
   ]
  },
  {
   "cell_type": "markdown",
   "metadata": {
    "collapsed": false
   },
   "source": [
    "Судя по всему там одинаковый токенайзер под капотом"
   ]
  },
  {
   "cell_type": "markdown",
   "metadata": {
    "collapsed": false
   },
   "source": [
    "Поменяем датасеты и дефолтную модель в предыдущей функции тренера и результатов"
   ]
  },
  {
   "cell_type": "code",
   "execution_count": 40,
   "metadata": {
    "collapsed": false
   },
   "outputs": [],
   "source": [
    "def rubert_base_trainer(\n",
    "        epochs: int,\n",
    "        lr: float,\n",
    "        file_name: typing.AnyStr,\n",
    "        force_override: bool,\n",
    "        scheduler_gamma: float or None = None,\n",
    "        model: BertForSequenceClassification = None,\n",
    "        loss_fn=None\n",
    "):\n",
    "    torch.manual_seed(SEED)\n",
    "    torch.cuda.manual_seed(SEED)\n",
    "\n",
    "    rubert = None\n",
    "    if model is None:\n",
    "        rubert = BertForSequenceClassification.from_pretrained(\n",
    "            pretrained_model_name_or_path=\"blanchefort/rubert-base-cased-sentiment\",\n",
    "            num_labels=3,\n",
    "            return_dict=True,\n",
    "            output_attentions=False,\n",
    "            output_hidden_states=False\n",
    "        )\n",
    "    else:\n",
    "        rubert = model\n",
    "\n",
    "    rubert.to(device)\n",
    "\n",
    "    rubert.name = file_name\n",
    "\n",
    "    rubert_optimizer = torch.optim.AdamW(\n",
    "        rubert.parameters(),\n",
    "        lr=lr,\n",
    "    )\n",
    "    scheduler = None\n",
    "    if scheduler_gamma is not None:\n",
    "        scheduler = torch.optim.lr_scheduler.ExponentialLR(\n",
    "            optimizer=rubert_optimizer,\n",
    "            gamma=scheduler_gamma,\n",
    "            verbose=True\n",
    "        )\n",
    "\n",
    "    return helper.model_trainer_with_saving(\n",
    "        model=rubert,\n",
    "        epochs=epochs,\n",
    "        train_dataloader=train_dataloader_base,\n",
    "        test_dataloader=test_dataloader_base,\n",
    "        loss_function=loss_fn,\n",
    "        optimizer=rubert_optimizer,\n",
    "        eval_function=f1,\n",
    "        device=device,\n",
    "        file_name=file_name,\n",
    "        scheduler=scheduler,\n",
    "        transformer=True,\n",
    "        force_override=force_override,\n",
    "        models_folder='models',\n",
    "        res_folder='model_res'\n",
    "    )\n",
    "\n",
    "\n",
    "def bert_cls_results_show(model, results):\n",
    "    fig, (ax1, ax2) = plt.subplots(1, 2, figsize=(15, 5))\n",
    "\n",
    "    helper.model_eval_report(\n",
    "        model=model,\n",
    "        test_dataloader=test_dataloader_base,\n",
    "        test_dataset=test_dataset_base,\n",
    "        loss_function=None,\n",
    "        eval_function=f1,\n",
    "        device=device,\n",
    "        transformer=True,\n",
    "        class_names=class_names\n",
    "    )\n",
    "    # plt.rcParams['figure.figsize'] = [6, 5]\n",
    "    ax1.plot(results.history_test_loss[0], label='test_loss')\n",
    "    ax1.plot(results.history_train_loss[0], label='train_loss')\n",
    "    ax1.set_title('loss')\n",
    "    ax1.legend()\n",
    "    # plt.rcParams['figure.figsize'] = [6, 5]\n",
    "    ax2.plot(results.history_test_eval[0], label='test_eval')\n",
    "    ax2.plot(results.history_train_eval[0], label='train_eval')\n",
    "    ax2.set_title('eval')\n",
    "    ax2.legend()\n"
   ]
  },
  {
   "cell_type": "code",
   "execution_count": 41,
   "metadata": {
    "collapsed": false
   },
   "outputs": [],
   "source": [
    "def print_model_layers(model):\n",
    "    # Get all of the model's parameters as a list of tuples.\n",
    "    params = list(model.named_parameters())\n",
    "\n",
    "    print('The BERT model has {:} different named parameters.\\n'.format(len(params)))\n",
    "\n",
    "    print('==== Embedding Layer ====\\n')\n",
    "\n",
    "    for p in params[0:5]:\n",
    "        print(\"{:<55} {:>12}\".format(p[0], str(tuple(p[1].size()))))\n",
    "\n",
    "    print('\\n==== First Transformer ====\\n')\n",
    "\n",
    "    for p in params[5:21]:\n",
    "        print(\"{:<55} {:>12}\".format(p[0], str(tuple(p[1].size()))))\n",
    "\n",
    "    print('\\n==== Output Layer ====\\n')\n",
    "\n",
    "    for p in params[-4:]:\n",
    "        print(\"{:<55} {:>12}\".format(p[0], str(tuple(p[1].size()))))"
   ]
  },
  {
   "cell_type": "code",
   "execution_count": 42,
   "metadata": {
    "collapsed": false
   },
   "outputs": [
    {
     "name": "stdout",
     "output_type": "stream",
     "text": [
      "Loading existing model\n"
     ]
    }
   ],
   "source": [
    "# rubert_base_freeze1 = BertForSequenceClassification.from_pretrained(\n",
    "#     pretrained_model_name_or_path=\"blanchefort/rubert-base-cased-sentiment\",\n",
    "#     num_labels=3\n",
    "# ).to(device)\n",
    "\n",
    "# for name, param in rubert_base_freeze1.named_parameters():\n",
    "#     if \"classifier\" not in name:\n",
    "#         param.requires_grad = False\n",
    "\n",
    "rubert_base1, rubert_base1_results = rubert_base_trainer(\n",
    "    epochs=4,\n",
    "    lr=2e-5,\n",
    "    force_override=False,\n",
    "    file_name=\"rubert_base_ep4_lr2e-5\"\n",
    ")  # значения по рекомендациям из статьи дообучения берта"
   ]
  },
  {
   "cell_type": "code",
   "execution_count": null,
   "metadata": {},
   "outputs": [],
   "source": [
    "bert_cls_results_show(\n",
    "    rubert_base1,\n",
    "    rubert_base1_results\n",
    ")"
   ]
  },
  {
   "cell_type": "markdown",
   "metadata": {
    "collapsed": false
   },
   "source": [
    "Значения лучше, возможно стоит попробовать еще больше эпох и расписание накинуть"
   ]
  },
  {
   "cell_type": "code",
   "execution_count": 44,
   "metadata": {
    "collapsed": false
   },
   "outputs": [
    {
     "data": {
      "text/plain": [
       "0"
      ]
     },
     "execution_count": 44,
     "metadata": {},
     "output_type": "execute_result"
    }
   ],
   "source": [
    "torch.cuda.empty_cache()\n",
    "gc.collect()\n",
    "del rubert_base1\n",
    "gc.collect()"
   ]
  },
  {
   "cell_type": "code",
   "execution_count": 85,
   "metadata": {
    "collapsed": false
   },
   "outputs": [
    {
     "name": "stdout",
     "output_type": "stream",
     "text": [
      "Adjusting learning rate of group 0 to 3.0000e-05.\n",
      "Loading existing model\n"
     ]
    }
   ],
   "source": [
    "rubert_base2, rubert_base2_results = rubert_base_trainer(\n",
    "    epochs=10,\n",
    "    lr=3e-5,\n",
    "    scheduler_gamma=0.90,\n",
    "    force_override=False,\n",
    "    file_name=\"rubert_base_ep10_lr3e-5_gamma90\"\n",
    ")"
   ]
  },
  {
   "cell_type": "code",
   "execution_count": null,
   "metadata": {},
   "outputs": [],
   "source": [
    "bert_cls_results_show(\n",
    "    rubert_base2,\n",
    "    rubert_base2_results\n",
    ")"
   ]
  },
  {
   "cell_type": "markdown",
   "metadata": {
    "collapsed": false
   },
   "source": [
    "Преодолел порог в 66%, но результаты все равно очень слабые для такой модели. Начинаю подозревать, что проблема в данных, а не в модели, то что neutral дизбалансирует модель и она не может нормально обучиться. Попробую сделать балансировку классов и повторно обучить rubert-base с предыдущими параметрами."
   ]
  },
  {
   "cell_type": "code",
   "execution_count": 47,
   "metadata": {
    "collapsed": false
   },
   "outputs": [
    {
     "data": {
      "text/plain": [
       "0"
      ]
     },
     "execution_count": 47,
     "metadata": {},
     "output_type": "execute_result"
    }
   ],
   "source": [
    "torch.cuda.empty_cache()\n",
    "gc.collect()\n",
    "del rubert_base2\n",
    "gc.collect()"
   ]
  },
  {
   "cell_type": "markdown",
   "metadata": {
    "collapsed": false
   },
   "source": [
    "## Balancing"
   ]
  },
  {
   "cell_type": "markdown",
   "metadata": {
    "collapsed": false
   },
   "source": [
    "Попробую самый тупой подход без class weighting - убрать половину всех neutral данных"
   ]
  },
  {
   "cell_type": "code",
   "execution_count": 48,
   "metadata": {
    "collapsed": false
   },
   "outputs": [
    {
     "data": {
      "text/plain": [
       "[Text(0, 0, 'neg'), Text(1, 0, 'neu'), Text(2, 0, 'pos')]"
      ]
     },
     "execution_count": 48,
     "metadata": {},
     "output_type": "execute_result"
    },
    {
     "data": {
      "image/png": "[encoded data removed]",
      "text/plain": [
       "<Figure size 640x480 with 1 Axes>"
      ]
     },
     "metadata": {},
     "output_type": "display_data"
    }
   ],
   "source": [
    "# Вспоминаем какое сейчас распределение классов\n",
    "ax = sns.countplot(data=twitter_cut, x=\"num_label\")\n",
    "ax.set_xticklabels([\"neg\", \"neu\", \"pos\"])"
   ]
  },
  {
   "cell_type": "markdown",
   "metadata": {
    "collapsed": false
   },
   "source": []
  },
  {
   "cell_type": "code",
   "execution_count": 49,
   "metadata": {
    "collapsed": false
   },
   "outputs": [
    {
     "data": {
      "text/plain": [
       "[Text(0, 0, 'neg'), Text(1, 0, 'neu'), Text(2, 0, 'pos')]"
      ]
     },
     "execution_count": 49,
     "metadata": {},
     "output_type": "execute_result"
    },
    {
     "data": {
      "image/png": "[encoded data removed]",
      "text/plain": [
       "<Figure size 640x480 with 1 Axes>"
      ]
     },
     "metadata": {},
     "output_type": "display_data"
    }
   ],
   "source": [
    "# Remove half of samples with label 1 (neutral) from twitter_cut_base dataset (Copilot request)\n",
    "twitter_cut_base_balanced = twitter_cut_base.drop(\n",
    "    twitter_cut_base[twitter_cut_base.num_label == 1].sample(frac=0.45, random_state=SEED).index)\n",
    "ax = sns.countplot(data=twitter_cut_base_balanced, x=\"num_label\")\n",
    "ax.set_xticklabels([\"neg\", \"neu\", \"pos\"])"
   ]
  },
  {
   "cell_type": "markdown",
   "metadata": {
    "collapsed": false
   },
   "source": [
    "Имеем теперь +- сбалансированный датасет, собираем на его основе даталоадеры"
   ]
  },
  {
   "cell_type": "code",
   "execution_count": 50,
   "metadata": {
    "collapsed": false
   },
   "outputs": [],
   "source": [
    "train_df_base_balanced, test_df_base_balanced = train_test_split(\n",
    "    twitter_cut_base_balanced,\n",
    "    test_size=SPLIT_SIZE,\n",
    "    shuffle=True,\n",
    "    stratify=twitter_cut_base_balanced['num_label'].values,\n",
    "    random_state=SEED\n",
    ")\n",
    "\n",
    "train_dataset_base_balanced, test_dataset_base_balanced, train_dataloader_base_balanced, test_dataloader_base_balanced = helper.prepare_ds_dl_transformer(\n",
    "    train_dataframe=train_df_base_balanced,\n",
    "    test_dataframe=test_df_base_balanced,\n",
    "    label_field_name=\"num_label\",\n",
    "    batch_size=16,  # Поменьше чтоб память не так быстро улетала (хз поможет ли вообще)\n",
    "    num_workers=NUM_WORKERS\n",
    ")"
   ]
  },
  {
   "cell_type": "code",
   "execution_count": 51,
   "metadata": {
    "collapsed": false
   },
   "outputs": [],
   "source": [
    "def rubert_base_balanced_trainer(\n",
    "        epochs: int,\n",
    "        lr: float,\n",
    "        file_name: typing.AnyStr,\n",
    "        force_override: bool,\n",
    "        scheduler_gamma: float or None = None,\n",
    "        model: BertForSequenceClassification = None\n",
    "):\n",
    "    torch.manual_seed(SEED)\n",
    "    torch.cuda.manual_seed(SEED)\n",
    "\n",
    "    rubert = None\n",
    "    if model is None:\n",
    "        rubert = BertForSequenceClassification.from_pretrained(\n",
    "            pretrained_model_name_or_path=\"blanchefort/rubert-base-cased-sentiment\",\n",
    "            num_labels=3,\n",
    "            return_dict=True,\n",
    "            output_attentions=False,\n",
    "            output_hidden_states=False\n",
    "        )\n",
    "    else:\n",
    "        rubert = model\n",
    "\n",
    "    rubert.to(device)\n",
    "\n",
    "    rubert.name = file_name\n",
    "\n",
    "    rubert_optimizer = torch.optim.AdamW(\n",
    "        rubert.parameters(),\n",
    "        lr=lr,\n",
    "    )\n",
    "    scheduler = None\n",
    "    if scheduler_gamma is not None:\n",
    "        scheduler = torch.optim.lr_scheduler.ExponentialLR(\n",
    "            optimizer=rubert_optimizer,\n",
    "            gamma=scheduler_gamma,\n",
    "            verbose=True\n",
    "        )\n",
    "\n",
    "    return helper.model_trainer_with_saving(\n",
    "        model=rubert,\n",
    "        epochs=epochs,\n",
    "        train_dataloader=train_dataloader_base_balanced,\n",
    "        test_dataloader=test_dataloader_base_balanced,\n",
    "        loss_function=None,\n",
    "        optimizer=rubert_optimizer,\n",
    "        eval_function=f1,\n",
    "        device=device,\n",
    "        file_name=file_name,\n",
    "        scheduler=scheduler,\n",
    "        transformer=True,\n",
    "        force_override=force_override,\n",
    "        models_folder='models',\n",
    "        res_folder='model_res'\n",
    "    )\n",
    "\n",
    "\n",
    "def bert_balanced_cls_results_show(model, results):\n",
    "    fig, (ax1, ax2) = plt.subplots(1, 2, figsize=(15, 5))\n",
    "\n",
    "    helper.model_eval_report(\n",
    "        model=model,\n",
    "        test_dataloader=test_dataloader_base_balanced,\n",
    "        test_dataset=test_dataset_base_balanced,\n",
    "        loss_function=None,\n",
    "        eval_function=f1,\n",
    "        device=device,\n",
    "        transformer=True,\n",
    "        class_names=class_names\n",
    "    )\n",
    "    # plt.rcParams['figure.figsize'] = [6, 5]\n",
    "    ax1.plot(results.history_test_loss[0], label='test_loss')\n",
    "    ax1.plot(results.history_train_loss[0], label='train_loss')\n",
    "    ax1.set_title('loss')\n",
    "    ax1.legend()\n",
    "    # plt.rcParams['figure.figsize'] = [6, 5]\n",
    "    ax2.plot(results.history_test_eval[0], label='test_eval')\n",
    "    ax2.plot(results.history_train_eval[0], label='train_eval')\n",
    "    ax2.set_title('eval')\n",
    "    ax2.legend()"
   ]
  },
  {
   "cell_type": "code",
   "execution_count": 52,
   "metadata": {
    "collapsed": false
   },
   "outputs": [
    {
     "name": "stdout",
     "output_type": "stream",
     "text": [
      "Loading existing model\n"
     ]
    }
   ],
   "source": [
    "rubert_base_balanced1, rubert_base_balanced1_results = rubert_base_balanced_trainer(\n",
    "    epochs=4,\n",
    "    lr=4e-5,\n",
    "    force_override=False,\n",
    "    file_name=\"rubert_base_balanced_ep4_lr4e-5\"\n",
    ")"
   ]
  },
  {
   "cell_type": "code",
   "execution_count": null,
   "metadata": {},
   "outputs": [],
   "source": [
    "bert_balanced_cls_results_show(rubert_base_balanced1, rubert_base_balanced1_results)"
   ]
  },
  {
   "cell_type": "markdown",
   "metadata": {
    "collapsed": false
   },
   "source": [
    "Стоит наверное подольше пообучать"
   ]
  },
  {
   "cell_type": "code",
   "execution_count": 54,
   "metadata": {
    "collapsed": false
   },
   "outputs": [
    {
     "data": {
      "text/plain": [
       "0"
      ]
     },
     "execution_count": 54,
     "metadata": {},
     "output_type": "execute_result"
    }
   ],
   "source": [
    "torch.cuda.empty_cache()\n",
    "gc.collect()\n",
    "del rubert_base_balanced1\n",
    "gc.collect()\n",
    "torch.cuda.empty_cache()\n",
    "gc.collect()"
   ]
  },
  {
   "cell_type": "code",
   "execution_count": 55,
   "metadata": {
    "collapsed": false
   },
   "outputs": [
    {
     "name": "stdout",
     "output_type": "stream",
     "text": [
      "Loading existing model\n"
     ]
    }
   ],
   "source": [
    "rubert_base_balanced2, rubert_base_balanced2_results = rubert_base_balanced_trainer(\n",
    "    epochs=10,\n",
    "    lr=4e-5,\n",
    "    # scheduler_gamma=0.90,\n",
    "    force_override=False,\n",
    "    file_name=\"rubert_base_balanced_ep10_lr4e-5\"\n",
    ")"
   ]
  },
  {
   "cell_type": "code",
   "execution_count": null,
   "metadata": {},
   "outputs": [],
   "source": [
    "bert_balanced_cls_results_show(rubert_base_balanced2, rubert_base_balanced2_results)"
   ]
  },
  {
   "cell_type": "markdown",
   "metadata": {
    "collapsed": false
   },
   "source": [
    "Поставлю еще на 10 эпох (возможно оно работает не совсем так как я предполагаю, и тогда все дальнейшее сегментное обучение - мусор)"
   ]
  },
  {
   "cell_type": "code",
   "execution_count": 57,
   "metadata": {
    "collapsed": false
   },
   "outputs": [
    {
     "name": "stdout",
     "output_type": "stream",
     "text": [
      "Loading existing model\n"
     ]
    }
   ],
   "source": [
    "rubert_base_balanced2, rubert_base_balanced2_results = rubert_base_balanced_trainer(\n",
    "    epochs=10,\n",
    "    lr=3e-5,\n",
    "    # scheduler_gamma=0.90,\n",
    "    force_override=False,\n",
    "    file_name=\"rubert_base_balanced_ep10+10_lr3e-5\",\n",
    "    model=rubert_base_balanced2\n",
    ")"
   ]
  },
  {
   "cell_type": "code",
   "execution_count": null,
   "metadata": {},
   "outputs": [],
   "source": [
    "bert_balanced_cls_results_show(rubert_base_balanced2, rubert_base_balanced2_results)"
   ]
  },
  {
   "cell_type": "markdown",
   "metadata": {
    "collapsed": false
   },
   "source": [
    "Ничего особо не поменялось"
   ]
  },
  {
   "cell_type": "markdown",
   "metadata": {
    "collapsed": false
   },
   "source": [
    "Сравним с предыдущим несбалансированным результатом (нужно заново подгрузить модель)"
   ]
  },
  {
   "cell_type": "code",
   "execution_count": 59,
   "metadata": {
    "collapsed": false
   },
   "outputs": [],
   "source": [
    "# bert_cls_results_show(rubert_base2, rubert_base2_results)"
   ]
  },
  {
   "cell_type": "markdown",
   "metadata": {
    "collapsed": false
   },
   "source": [
    "Вывод - балансировка в виде удаления 50% негативных отзывов не дает прироста качества от слова совсем. В процентном соотношении неправильных результатов даже больше стало на neutral."
   ]
  },
  {
   "cell_type": "code",
   "execution_count": 60,
   "metadata": {
    "collapsed": false
   },
   "outputs": [
    {
     "data": {
      "text/plain": [
       "0"
      ]
     },
     "execution_count": 60,
     "metadata": {},
     "output_type": "execute_result"
    }
   ],
   "source": [
    "torch.cuda.empty_cache()\n",
    "gc.collect()\n",
    "del rubert_base_balanced2\n",
    "gc.collect()\n",
    "torch.cuda.empty_cache()\n",
    "gc.collect()"
   ]
  },
  {
   "cell_type": "markdown",
   "metadata": {
    "collapsed": false
   },
   "source": [
    "## Class weights balancing"
   ]
  },
  {
   "cell_type": "code",
   "execution_count": 61,
   "metadata": {
    "collapsed": false
   },
   "outputs": [
    {
     "data": {
      "text/plain": [
       "tensor([1.1673, 0.6595, 1.5947], device='cuda:0')"
      ]
     },
     "execution_count": 61,
     "metadata": {},
     "output_type": "execute_result"
    }
   ],
   "source": [
    "class_weights = compute_class_weight('balanced', classes=np.unique(twitter_cut_base.num_label),\n",
    "                                     y=twitter_cut_base.num_label)\n",
    "class_weights = torch.tensor(class_weights, dtype=torch.float)\n",
    "class_weights = class_weights.to(device)\n",
    "class_weights"
   ]
  },
  {
   "cell_type": "code",
   "execution_count": 83,
   "metadata": {
    "collapsed": false
   },
   "outputs": [
    {
     "name": "stdout",
     "output_type": "stream",
     "text": [
      "Loading existing model\n"
     ]
    }
   ],
   "source": [
    "loss_function = torch.nn.CrossEntropyLoss(weight=class_weights, reduction='mean')\n",
    "\n",
    "rubert_base_weighted_balance1, rubert_base_weighted_balance1_results = rubert_base_trainer(\n",
    "    epochs=10,\n",
    "    lr=2e-5,\n",
    "    force_override=False,\n",
    "    file_name=\"rubert_base_weighted_balance1_ep10_lr2e-5\",\n",
    "    loss_fn=loss_function\n",
    ")"
   ]
  },
  {
   "cell_type": "code",
   "execution_count": null,
   "metadata": {},
   "outputs": [],
   "source": [
    "bert_cls_results_show(rubert_base_weighted_balance1, rubert_base_weighted_balance1_results)"
   ]
  },
  {
   "cell_type": "markdown",
   "metadata": {
    "collapsed": false
   },
   "source": [
    "### Additional training"
   ]
  },
  {
   "cell_type": "code",
   "execution_count": 64,
   "metadata": {
    "collapsed": false
   },
   "outputs": [
    {
     "name": "stdout",
     "output_type": "stream",
     "text": [
      "Loading existing model\n"
     ]
    }
   ],
   "source": [
    "rubert_base_weighted_balance1_plus, rubert_base_weighted_balance1_results_plus = rubert_base_trainer(\n",
    "    epochs=10,\n",
    "    lr=8e-6,\n",
    "    force_override=False,\n",
    "    file_name=\"rubert_base_weighted_balance1_ep10_lr2e-5+ep10_lr8e-6\",\n",
    "    loss_fn=loss_function,\n",
    "    model=rubert_base_weighted_balance1\n",
    ")"
   ]
  },
  {
   "cell_type": "code",
   "execution_count": null,
   "metadata": {},
   "outputs": [],
   "source": [
    "bert_cls_results_show(rubert_base_weighted_balance1_plus, rubert_base_weighted_balance1_results_plus)"
   ]
  },
  {
   "cell_type": "markdown",
   "metadata": {
    "collapsed": false
   },
   "source": [
    "Короче больше 67-69 не выжать, поэтому делаю вывод, что развесовка классов не особо то и помогает, но дальше попробую её все же использовать. Я устал если честно это ковырять, и уже не понимаю с каким бубном надо танцевать чтоб 80+ получить\n",
    "Возможно датасет просто нехороший, возможно данных мало, хз, но сравнивать вообще не с чем, к сожалению (либо я не нашел)"
   ]
  },
  {
   "cell_type": "code",
   "execution_count": 66,
   "metadata": {
    "collapsed": false
   },
   "outputs": [
    {
     "data": {
      "text/plain": [
       "0"
      ]
     },
     "execution_count": 66,
     "metadata": {},
     "output_type": "execute_result"
    }
   ],
   "source": [
    "torch.cuda.empty_cache()\n",
    "gc.collect()\n",
    "del rubert_base_weighted_balance1\n",
    "del rubert_base_weighted_balance1_plus\n",
    "gc.collect()\n",
    "torch.cuda.empty_cache()\n",
    "gc.collect()"
   ]
  },
  {
   "cell_type": "markdown",
   "metadata": {
    "collapsed": false
   },
   "source": [
    "## Ruber base layer freezing"
   ]
  },
  {
   "cell_type": "markdown",
   "metadata": {
    "collapsed": false
   },
   "source": [
    "Ну и последняя поправка, которая может хоть как-то поменять ситуацию - заморозка слоёв. Как обычно, сначала оставим только классификатор"
   ]
  },
  {
   "cell_type": "code",
   "execution_count": 67,
   "metadata": {
    "collapsed": false
   },
   "outputs": [
    {
     "name": "stdout",
     "output_type": "stream",
     "text": [
      "Loading existing model\n"
     ]
    }
   ],
   "source": [
    "loss_function = torch.nn.CrossEntropyLoss(weight=class_weights, reduction='mean')\n",
    "\n",
    "rubert_base_freeze1 = BertForSequenceClassification.from_pretrained(\n",
    "    pretrained_model_name_or_path=\"blanchefort/rubert-base-cased-sentiment\",\n",
    "    num_labels=3,\n",
    "    return_dict=True,\n",
    "    output_attentions=False,\n",
    "    output_hidden_states=False\n",
    ")\n",
    "\n",
    "for name, param in rubert_base_freeze1.named_parameters():\n",
    "    if not \"classifier\" in name:\n",
    "        param.requires_grad = False\n",
    "\n",
    "rubert_base_freeze1, rubert_base_freeze1_results = rubert_base_trainer(\n",
    "    epochs=10,\n",
    "    lr=1e-5,\n",
    "    force_override=False,\n",
    "    file_name=\"rubert_base_freeze_cls_ep10_lr1e-5\",\n",
    "    model=rubert_base_freeze1,\n",
    "    loss_fn=loss_function\n",
    ")"
   ]
  },
  {
   "cell_type": "code",
   "execution_count": null,
   "metadata": {},
   "outputs": [],
   "source": [
    "bert_cls_results_show(rubert_base_freeze1, rubert_base_freeze1_results)"
   ]
  },
  {
   "cell_type": "markdown",
   "metadata": {
    "collapsed": false
   },
   "source": [
    "На таком примитиве дальше 60% не уехать"
   ]
  },
  {
   "cell_type": "markdown",
   "metadata": {
    "collapsed": false
   },
   "source": [
    "Попробую эмбеддинги и верхние слои заморозить, как рекомендуют в интернетах"
   ]
  },
  {
   "cell_type": "code",
   "execution_count": 69,
   "metadata": {
    "collapsed": false
   },
   "outputs": [
    {
     "name": "stdout",
     "output_type": "stream",
     "text": [
      "The BERT model has 201 different named parameters.\n",
      "\n",
      "==== Embedding Layer ====\n",
      "\n",
      "bert.embeddings.word_embeddings.weight                  (119547, 768)\n",
      "bert.embeddings.position_embeddings.weight                (512, 768)\n",
      "bert.embeddings.token_type_embeddings.weight                (2, 768)\n",
      "bert.embeddings.LayerNorm.weight                              (768,)\n",
      "bert.embeddings.LayerNorm.bias                                (768,)\n",
      "\n",
      "==== First Transformer ====\n",
      "\n",
      "bert.encoder.layer.0.attention.self.query.weight          (768, 768)\n",
      "bert.encoder.layer.0.attention.self.query.bias                (768,)\n",
      "bert.encoder.layer.0.attention.self.key.weight            (768, 768)\n",
      "bert.encoder.layer.0.attention.self.key.bias                  (768,)\n",
      "bert.encoder.layer.0.attention.self.value.weight          (768, 768)\n",
      "bert.encoder.layer.0.attention.self.value.bias                (768,)\n",
      "bert.encoder.layer.0.attention.output.dense.weight        (768, 768)\n",
      "bert.encoder.layer.0.attention.output.dense.bias              (768,)\n",
      "bert.encoder.layer.0.attention.output.LayerNorm.weight        (768,)\n",
      "bert.encoder.layer.0.attention.output.LayerNorm.bias          (768,)\n",
      "bert.encoder.layer.0.intermediate.dense.weight           (3072, 768)\n",
      "bert.encoder.layer.0.intermediate.dense.bias                 (3072,)\n",
      "bert.encoder.layer.0.output.dense.weight                 (768, 3072)\n",
      "bert.encoder.layer.0.output.dense.bias                        (768,)\n",
      "bert.encoder.layer.0.output.LayerNorm.weight                  (768,)\n",
      "bert.encoder.layer.0.output.LayerNorm.bias                    (768,)\n",
      "\n",
      "==== Output Layer ====\n",
      "\n",
      "bert.pooler.dense.weight                                  (768, 768)\n",
      "bert.pooler.dense.bias                                        (768,)\n",
      "classifier.weight                                           (3, 768)\n",
      "classifier.bias                                                 (3,)\n"
     ]
    },
    {
     "data": {
      "text/plain": [
       "BertForSequenceClassification(\n",
       "  (bert): BertModel(\n",
       "    (embeddings): BertEmbeddings(\n",
       "      (word_embeddings): Embedding(119547, 768, padding_idx=0)\n",
       "      (position_embeddings): Embedding(512, 768)\n",
       "      (token_type_embeddings): Embedding(2, 768)\n",
       "      (LayerNorm): LayerNorm((768,), eps=1e-12, elementwise_affine=True)\n",
       "      (dropout): Dropout(p=0.1, inplace=False)\n",
       "    )\n",
       "    (encoder): BertEncoder(\n",
       "      (layer): ModuleList(\n",
       "        (0-11): 12 x BertLayer(\n",
       "          (attention): BertAttention(\n",
       "            (self): BertSelfAttention(\n",
       "              (query): Linear(in_features=768, out_features=768, bias=True)\n",
       "              (key): Linear(in_features=768, out_features=768, bias=True)\n",
       "              (value): Linear(in_features=768, out_features=768, bias=True)\n",
       "              (dropout): Dropout(p=0.1, inplace=False)\n",
       "            )\n",
       "            (output): BertSelfOutput(\n",
       "              (dense): Linear(in_features=768, out_features=768, bias=True)\n",
       "              (LayerNorm): LayerNorm((768,), eps=1e-12, elementwise_affine=True)\n",
       "              (dropout): Dropout(p=0.1, inplace=False)\n",
       "            )\n",
       "          )\n",
       "          (intermediate): BertIntermediate(\n",
       "            (dense): Linear(in_features=768, out_features=3072, bias=True)\n",
       "            (intermediate_act_fn): GELUActivation()\n",
       "          )\n",
       "          (output): BertOutput(\n",
       "            (dense): Linear(in_features=3072, out_features=768, bias=True)\n",
       "            (LayerNorm): LayerNorm((768,), eps=1e-12, elementwise_affine=True)\n",
       "            (dropout): Dropout(p=0.1, inplace=False)\n",
       "          )\n",
       "        )\n",
       "      )\n",
       "    )\n",
       "    (pooler): BertPooler(\n",
       "      (dense): Linear(in_features=768, out_features=768, bias=True)\n",
       "      (activation): Tanh()\n",
       "    )\n",
       "  )\n",
       "  (dropout): Dropout(p=0.1, inplace=False)\n",
       "  (classifier): Linear(in_features=768, out_features=3, bias=True)\n",
       ")"
      ]
     },
     "execution_count": 69,
     "metadata": {},
     "output_type": "execute_result"
    }
   ],
   "source": [
    "print_model_layers(rubert_base_freeze1)\n",
    "rubert_base_freeze1"
   ]
  },
  {
   "cell_type": "code",
   "execution_count": 70,
   "metadata": {
    "collapsed": false
   },
   "outputs": [
    {
     "name": "stdout",
     "output_type": "stream",
     "text": [
      "Loading existing model\n"
     ]
    }
   ],
   "source": [
    "rubert_base_freeze2 = BertForSequenceClassification.from_pretrained(\n",
    "    pretrained_model_name_or_path=\"blanchefort/rubert-base-cased-sentiment\",\n",
    "    num_labels=3,\n",
    "    return_dict=True,\n",
    "    output_attentions=False,\n",
    "    output_hidden_states=False\n",
    ")\n",
    "\n",
    "modules = [rubert_base_freeze2.bert.embeddings,\n",
    "           *rubert_base_freeze2.bert.encoder.layer[:6]]  # freezing first 6 out of 12\n",
    "for module in modules:\n",
    "    for param in module.parameters():\n",
    "        param.requires_grad = False\n",
    "\n",
    "rubert_base_freeze2, rubert_base_freeze2_results = rubert_base_trainer(\n",
    "    epochs=10,\n",
    "    lr=1e-5,\n",
    "    force_override=False,\n",
    "    file_name=\"rubert_base_freeze_cls_top6_ep10_lr1e-5\",\n",
    "    model=rubert_base_freeze2,\n",
    "    loss_fn=loss_function\n",
    ")"
   ]
  },
  {
   "cell_type": "code",
   "execution_count": null,
   "metadata": {},
   "outputs": [],
   "source": [
    "bert_cls_results_show(rubert_base_freeze2, rubert_base_freeze2_results)"
   ]
  },
  {
   "cell_type": "markdown",
   "metadata": {
    "collapsed": false
   },
   "source": [
    "Тоже сомнительный результат, можно еще на 5 эпох кинуть"
   ]
  },
  {
   "cell_type": "code",
   "execution_count": 72,
   "metadata": {
    "collapsed": false
   },
   "outputs": [
    {
     "name": "stdout",
     "output_type": "stream",
     "text": [
      "Loading existing model\n"
     ]
    }
   ],
   "source": [
    "rubert_base_freeze2_plus, rubert_base_freeze2_results_plus = rubert_base_trainer(\n",
    "    epochs=5,\n",
    "    lr=3e-5,\n",
    "    force_override=False,\n",
    "    file_name=\"rubert_base_freeze_cls_top6_ep10_lr1e-5+ep5_lr1e-5\",\n",
    "    model=rubert_base_freeze2,\n",
    "    loss_fn=loss_function\n",
    ")"
   ]
  },
  {
   "cell_type": "markdown",
   "metadata": {
    "collapsed": false
   },
   "source": [
    "Возможно там будет наблюдаться некоторая сходимость - лосс падает в целом, проверять я не буду."
   ]
  },
  {
   "cell_type": "code",
   "execution_count": null,
   "metadata": {},
   "outputs": [],
   "source": [
    "bert_cls_results_show(rubert_base_freeze2_plus, rubert_base_freeze2_results_plus)"
   ]
  },
  {
   "cell_type": "markdown",
   "metadata": {
    "collapsed": false
   },
   "source": [
    "Посмотрю еще на то, если эмбеддинги разморозить"
   ]
  },
  {
   "cell_type": "code",
   "execution_count": 74,
   "metadata": {
    "collapsed": false
   },
   "outputs": [
    {
     "name": "stdout",
     "output_type": "stream",
     "text": [
      "Loading existing model\n"
     ]
    }
   ],
   "source": [
    "rubert_base_freeze3 = BertForSequenceClassification.from_pretrained(\n",
    "    pretrained_model_name_or_path=\"blanchefort/rubert-base-cased-sentiment\",\n",
    "    num_labels=3,\n",
    "    return_dict=True,\n",
    "    output_attentions=False,\n",
    "    output_hidden_states=False\n",
    ")\n",
    "# freeze like in previos model\n",
    "modules = [*rubert_base_freeze3.bert.encoder.layer[:6]]  # freezing first 6 out of 12\n",
    "for module in modules:\n",
    "    for param in module.parameters():\n",
    "        param.requires_grad = False\n",
    "\n",
    "rubert_base_freeze3, rubert_base_freeze3_results = rubert_base_trainer(\n",
    "    epochs=10,\n",
    "    lr=2e-5,\n",
    "    force_override=False,\n",
    "    file_name=\"rubert_base_freeze_cls_top6_noemb_ep10_lr2e-5\",\n",
    "    model=rubert_base_freeze3,\n",
    "    loss_fn=loss_function\n",
    ")"
   ]
  },
  {
   "cell_type": "code",
   "execution_count": null,
   "metadata": {},
   "outputs": [],
   "source": [
    "bert_cls_results_show(rubert_base_freeze3, rubert_base_freeze3_results)"
   ]
  },
  {
   "cell_type": "markdown",
   "metadata": {
    "collapsed": false
   },
   "source": [
    "Дообучим еще 10 эпох сверху. А еще я не понимаю чем обусловленна эта нестабильность в скачках. Сейчас задумался о том, что из-за этих скачков формально все эти разбросы получившиеся по моделям на +-5% вообще не играют никакой роли и на их основе нельзя делать никаких выводов. Но не хочется об этом задумываться, тк времени было убито слишком много."
   ]
  },
  {
   "cell_type": "code",
   "execution_count": 76,
   "metadata": {
    "collapsed": false
   },
   "outputs": [
    {
     "name": "stdout",
     "output_type": "stream",
     "text": [
      "Loading existing model\n"
     ]
    }
   ],
   "source": [
    "# ten more epochs of previous model\n",
    "rubert_base_freeze3_plus, rubert_base_freeze3_results_plus = rubert_base_trainer(\n",
    "    epochs=10,\n",
    "    lr=1e-5,\n",
    "    force_override=False,\n",
    "    file_name=\"rubert_base_freeze_cls_top6_noemb_ep10_lr2e-5+ep10_lr1e-5\",\n",
    "    model=rubert_base_freeze3,\n",
    "    loss_fn=loss_function\n",
    ")"
   ]
  },
  {
   "cell_type": "code",
   "execution_count": null,
   "metadata": {},
   "outputs": [],
   "source": [
    "bert_cls_results_show(rubert_base_freeze3_plus, rubert_base_freeze3_results_plus)"
   ]
  },
  {
   "cell_type": "markdown",
   "metadata": {
    "collapsed": false
   },
   "source": [
    "## Summarizing results"
   ]
  },
  {
   "cell_type": "code",
   "execution_count": 78,
   "metadata": {
    "collapsed": false
   },
   "outputs": [],
   "source": [
    "rubert_tiny_results_all = pd.concat([\n",
    "    rubert_tiny_results1,\n",
    "    rubert_tiny_results2,\n",
    "    rubert_tiny_results3,\n",
    "    rubert_tiny_results4\n",
    "])\n",
    "rubert_tiny_freeze_results_all = pd.concat([\n",
    "    rubert_tiny_freeze1_results,\n",
    "    rubert_tiny_freeze2_results,\n",
    "    rubert_tiny_freeze3_results\n",
    "])\n",
    "rubert_base_results_all = pd.concat([\n",
    "    rubert_base1_results,\n",
    "    rubert_base2_results\n",
    "])\n",
    "rubert_base_balanced_all = pd.concat([\n",
    "    rubert_base_balanced1_results,\n",
    "    rubert_base_balanced2_results\n",
    "])\n",
    "rubert_base_weighted_balance_results_all = pd.concat([\n",
    "    rubert_base_weighted_balance1_results,\n",
    "    rubert_base_weighted_balance1_results_plus\n",
    "])\n",
    "rubert_base_freeze_results = pd.concat([\n",
    "    rubert_base_freeze1_results,\n",
    "    rubert_base_freeze2_results,\n",
    "    rubert_base_freeze2_results_plus,\n",
    "    rubert_base_freeze3_results,\n",
    "    rubert_base_freeze3_results_plus\n",
    "])\n",
    "\n",
    "all_results = pd.concat([\n",
    "    rubert_tiny_results_all,\n",
    "    rubert_tiny_freeze_results_all,\n",
    "    rubert_base_results_all,\n",
    "    rubert_base_balanced_all,\n",
    "    rubert_base_weighted_balance_results_all,\n",
    "    rubert_base_freeze_results\n",
    "])\n",
    "all_results_useful = all_results.drop(\n",
    "    columns=['class_name', 'status', 'epochs_remain', 'on_which_batch_broken', 'optimizer', 'eval_function', 'device'])"
   ]
  },
  {
   "cell_type": "code",
   "execution_count": 79,
   "metadata": {
    "collapsed": false
   },
   "outputs": [
    {
     "name": "stdout",
     "output_type": "stream",
     "text": [
      "Обучение 1.63 часа, \n",
      "Обучение плохих 8.15 часа, \n",
      "Моё обучение 81.55 часа или 3.40 дней или 6.80 дней активного суточного бодрствования\n",
      "Всего моделей 18 штук\n",
      "Итоговый прирост (от худшего) 8.40%\n",
      "Удовлетворенность результатом: 3/10, очень хотел 80%+ :(\n"
     ]
    }
   ],
   "source": [
    "# всего потрачено часов на обучение. Можно домножить на 5 чтоб посчитать все запоротые модели. И еще на 10 чтоб посчитать всё время чтоб достичь прироста в 5%((((((\n",
    "hours = (all_results_useful.train_time.sum() / 60 / 60)\n",
    "print(\n",
    "    f'Обучение {hours:.2f} часа, \\nОбучение плохих {hours * 5:.2f} часа, \\nМоё обучение {hours * 5 * 10:.2f} часа или {hours * 5 * 10 / 24:.2f} дней или {hours * 5 * 10 / 12:.2f} дней активного суточного бодрствования')\n",
    "print(f'Всего моделей {len(all_results):.0f} штук')\n",
    "print(\n",
    "    f'Итоговый прирост (от худшего) {all_results_useful.end_test_eval.max() * 100 - all_results_useful.end_test_eval.min() * 100:.2f}%')\n",
    "print(f'Удовлетворенность результатом: 3/10, очень хотел 80%+ :(')"
   ]
  },
  {
   "cell_type": "code",
   "execution_count": 80,
   "metadata": {
    "collapsed": false
   },
   "outputs": [
    {
     "data": {
      "text/html": [
       "<div>\n",
       "<style scoped>\n",
       "    .dataframe tbody tr th:only-of-type {\n",
       "        vertical-align: middle;\n",
       "    }\n",
       "\n",
       "    .dataframe tbody tr th {\n",
       "        vertical-align: top;\n",
       "    }\n",
       "\n",
       "    .dataframe thead th {\n",
       "        text-align: right;\n",
       "    }\n",
       "</style>\n",
       "<table border=\"1\" class=\"dataframe\">\n",
       "  <thead>\n",
       "    <tr style=\"text-align: right;\">\n",
       "      <th></th>\n",
       "      <th>name</th>\n",
       "      <th>train_time</th>\n",
       "      <th>loss_function</th>\n",
       "      <th>learning_rate</th>\n",
       "      <th>end_test_loss</th>\n",
       "      <th>end_test_eval</th>\n",
       "      <th>end_train_loss</th>\n",
       "      <th>end_train_eval</th>\n",
       "      <th>history_test_loss</th>\n",
       "      <th>history_test_eval</th>\n",
       "      <th>history_train_loss</th>\n",
       "      <th>history_train_eval</th>\n",
       "    </tr>\n",
       "  </thead>\n",
       "  <tbody>\n",
       "    <tr>\n",
       "      <th>0</th>\n",
       "      <td>rubert_base_weighted_balance1_ep10_lr2e-5</td>\n",
       "      <td>664.335858</td>\n",
       "      <td>CrossEntropyLoss</td>\n",
       "      <td>2.000000e-05</td>\n",
       "      <td>1.050365</td>\n",
       "      <td>0.689420</td>\n",
       "      <td>0.265091</td>\n",
       "      <td>0.912302</td>\n",
       "      <td>[0.91506, 0.8972, 0.88218, 0.88173, 0.90824, 0...</td>\n",
       "      <td>[0.63914, 0.64417, 0.65828, 0.65102, 0.64439, ...</td>\n",
       "      <td>[1.0441, 0.87621, 0.81221, 0.74153, 0.63697, 0...</td>\n",
       "      <td>[0.52075, 0.62833, 0.66724, 0.69034, 0.73505, ...</td>\n",
       "    </tr>\n",
       "    <tr>\n",
       "      <th>0</th>\n",
       "      <td>rubert_base_ep10_lr3e-5_gamma90</td>\n",
       "      <td>789.921810</td>\n",
       "      <td>NoneType</td>\n",
       "      <td>1.046035e-05</td>\n",
       "      <td>0.920411</td>\n",
       "      <td>0.686892</td>\n",
       "      <td>0.351696</td>\n",
       "      <td>0.889575</td>\n",
       "      <td>[0.81054, 0.82058, 0.80676, 0.81373, 0.81999, ...</td>\n",
       "      <td>[0.64583, 0.66161, 0.68164, 0.68683, 0.69438, ...</td>\n",
       "      <td>[0.92772, 0.80844, 0.70641, 0.6447, 0.5949, 0....</td>\n",
       "      <td>[0.60067, 0.66774, 0.72789, 0.76099, 0.78261, ...</td>\n",
       "    </tr>\n",
       "    <tr>\n",
       "      <th>0</th>\n",
       "      <td>rubert_base_weighted_balance1_ep10_lr2e-5+ep10...</td>\n",
       "      <td>665.701195</td>\n",
       "      <td>CrossEntropyLoss</td>\n",
       "      <td>8.000000e-06</td>\n",
       "      <td>1.488662</td>\n",
       "      <td>0.671851</td>\n",
       "      <td>0.080462</td>\n",
       "      <td>0.974926</td>\n",
       "      <td>[1.17064, 1.17163, 1.24516, 1.26628, 1.36866, ...</td>\n",
       "      <td>[0.66817, 0.67963, 0.66241, 0.66379, 0.64939, ...</td>\n",
       "      <td>[0.20703, 0.18015, 0.15792, 0.14264, 0.12553, ...</td>\n",
       "      <td>[0.93404, 0.94269, 0.9501, 0.95726, 0.96084, 0...</td>\n",
       "    </tr>\n",
       "    <tr>\n",
       "      <th>0</th>\n",
       "      <td>rubert_base_balanced_ep10+10_lr3e-5</td>\n",
       "      <td>550.615229</td>\n",
       "      <td>NoneType</td>\n",
       "      <td>3.000000e-05</td>\n",
       "      <td>1.488500</td>\n",
       "      <td>0.670536</td>\n",
       "      <td>0.132767</td>\n",
       "      <td>0.968510</td>\n",
       "      <td>[1.34528, 1.27255, 1.23034, 1.32239, 1.36291, ...</td>\n",
       "      <td>[0.64821, 0.65908, 0.65238, 0.62403, 0.66607, ...</td>\n",
       "      <td>[0.24596, 0.2216, 0.21642, 0.1699, 0.15324, 0....</td>\n",
       "      <td>[0.93366, 0.9407, 0.94118, 0.95988, 0.96403, 0...</td>\n",
       "    </tr>\n",
       "    <tr>\n",
       "      <th>0</th>\n",
       "      <td>rubert_tiny_ep15_lr3e-5_gamma75</td>\n",
       "      <td>81.819096</td>\n",
       "      <td>NoneType</td>\n",
       "      <td>4.009038e-07</td>\n",
       "      <td>0.810899</td>\n",
       "      <td>0.666794</td>\n",
       "      <td>0.528303</td>\n",
       "      <td>0.798641</td>\n",
       "      <td>[0.81073, 0.78125, 0.77734, 0.77857, 0.7876, 0...</td>\n",
       "      <td>[0.63781, 0.64985, 0.65889, 0.66724, 0.66609, ...</td>\n",
       "      <td>[0.92728, 0.7626, 0.70039, 0.65345, 0.62534, 0...</td>\n",
       "      <td>[0.56902, 0.67421, 0.70677, 0.72994, 0.74978, ...</td>\n",
       "    </tr>\n",
       "    <tr>\n",
       "      <th>0</th>\n",
       "      <td>rubert_base_freeze_cls_top6_noemb_ep10_lr2e-5</td>\n",
       "      <td>567.160578</td>\n",
       "      <td>CrossEntropyLoss</td>\n",
       "      <td>2.000000e-05</td>\n",
       "      <td>0.949296</td>\n",
       "      <td>0.663690</td>\n",
       "      <td>0.521717</td>\n",
       "      <td>0.817811</td>\n",
       "      <td>[0.93321, 0.92425, 0.90861, 0.89061, 0.89768, ...</td>\n",
       "      <td>[0.61329, 0.62359, 0.64036, 0.63553, 0.63863, ...</td>\n",
       "      <td>[1.03076, 0.89112, 0.83194, 0.77583, 0.72885, ...</td>\n",
       "      <td>[0.56114, 0.62451, 0.66551, 0.69195, 0.7143, 0...</td>\n",
       "    </tr>\n",
       "    <tr>\n",
       "      <th>0</th>\n",
       "      <td>rubert_tiny_ep15_lr3e-5_gamma50</td>\n",
       "      <td>80.672499</td>\n",
       "      <td>NoneType</td>\n",
       "      <td>9.155273e-10</td>\n",
       "      <td>0.778388</td>\n",
       "      <td>0.659627</td>\n",
       "      <td>0.676965</td>\n",
       "      <td>0.719121</td>\n",
       "      <td>[0.81073, 0.78908, 0.78093, 0.7806, 0.78153, 0...</td>\n",
       "      <td>[0.63781, 0.64628, 0.64886, 0.65259, 0.65431, ...</td>\n",
       "      <td>[0.92728, 0.76537, 0.72155, 0.69749, 0.69167, ...</td>\n",
       "      <td>[0.56902, 0.67488, 0.69669, 0.70413, 0.71104, ...</td>\n",
       "    </tr>\n",
       "    <tr>\n",
       "      <th>0</th>\n",
       "      <td>rubert_base_freeze_cls_top6_noemb_ep10_lr2e-5+...</td>\n",
       "      <td>573.790415</td>\n",
       "      <td>CrossEntropyLoss</td>\n",
       "      <td>1.000000e-05</td>\n",
       "      <td>1.104489</td>\n",
       "      <td>0.657930</td>\n",
       "      <td>0.312919</td>\n",
       "      <td>0.896986</td>\n",
       "      <td>[0.97514, 1.00167, 1.02289, 1.0422, 1.07174, 1...</td>\n",
       "      <td>[0.66743, 0.66916, 0.6611, 0.66455, 0.64987, 0...</td>\n",
       "      <td>[0.47712, 0.45034, 0.42656, 0.40578, 0.38779, ...</td>\n",
       "      <td>[0.83523, 0.84783, 0.85413, 0.86191, 0.86981, ...</td>\n",
       "    </tr>\n",
       "    <tr>\n",
       "      <th>0</th>\n",
       "      <td>rubert_base_ep4_lr2e-5</td>\n",
       "      <td>313.314843</td>\n",
       "      <td>NoneType</td>\n",
       "      <td>2.000000e-05</td>\n",
       "      <td>0.845497</td>\n",
       "      <td>0.653482</td>\n",
       "      <td>0.829568</td>\n",
       "      <td>0.642292</td>\n",
       "      <td>[0.87523, 0.89607, 1.07348, 0.8455]</td>\n",
       "      <td>[0.6146, 0.61236, 0.44899, 0.65348]</td>\n",
       "      <td>[1.00294, 0.89225, 0.87825, 0.82957]</td>\n",
       "      <td>[0.54867, 0.61623, 0.62414, 0.64229]</td>\n",
       "    </tr>\n",
       "    <tr>\n",
       "      <th>0</th>\n",
       "      <td>rubert_tiny_freeze_enc_cls_ep15_lr1e-5</td>\n",
       "      <td>146.357875</td>\n",
       "      <td>NoneType</td>\n",
       "      <td>1.000000e-05</td>\n",
       "      <td>0.810099</td>\n",
       "      <td>0.652300</td>\n",
       "      <td>0.514675</td>\n",
       "      <td>0.798765</td>\n",
       "      <td>[1.01663, 0.98507, 0.96149, 0.93789, 0.91417, ...</td>\n",
       "      <td>[0.50908, 0.52555, 0.53718, 0.55409, 0.5697, 0...</td>\n",
       "      <td>[1.04851, 0.99458, 0.96636, 0.93974, 0.91298, ...</td>\n",
       "      <td>[0.49397, 0.51875, 0.5418, 0.55539, 0.57248, 0...</td>\n",
       "    </tr>\n",
       "    <tr>\n",
       "      <th>0</th>\n",
       "      <td>rubert_base_balanced_ep4_lr4e-5</td>\n",
       "      <td>216.815594</td>\n",
       "      <td>NoneType</td>\n",
       "      <td>4.000000e-05</td>\n",
       "      <td>0.920076</td>\n",
       "      <td>0.648289</td>\n",
       "      <td>0.660652</td>\n",
       "      <td>0.751375</td>\n",
       "      <td>[0.90084, 0.83361, 0.87564, 0.92008]</td>\n",
       "      <td>[0.62433, 0.64315, 0.64717, 0.64829]</td>\n",
       "      <td>[0.99145, 0.84269, 0.77391, 0.66065]</td>\n",
       "      <td>[0.54661, 0.64511, 0.68667, 0.75137]</td>\n",
       "    </tr>\n",
       "    <tr>\n",
       "      <th>0</th>\n",
       "      <td>rubert_tiny_ep15_lr3e-5</td>\n",
       "      <td>84.419073</td>\n",
       "      <td>NoneType</td>\n",
       "      <td>3.000000e-05</td>\n",
       "      <td>1.498644</td>\n",
       "      <td>0.648159</td>\n",
       "      <td>0.122758</td>\n",
       "      <td>0.959536</td>\n",
       "      <td>[0.81073, 0.77603, 0.7722, 0.78766, 0.82281, 0...</td>\n",
       "      <td>[0.63781, 0.65775, 0.66922, 0.6718, 0.67094, 0...</td>\n",
       "      <td>[0.92728, 0.76131, 0.68418, 0.61027, 0.54613, ...</td>\n",
       "      <td>[0.56902, 0.67354, 0.71821, 0.75472, 0.79079, ...</td>\n",
       "    </tr>\n",
       "    <tr>\n",
       "      <th>0</th>\n",
       "      <td>rubert_tiny_ep15_lr3e-6</td>\n",
       "      <td>80.687391</td>\n",
       "      <td>NoneType</td>\n",
       "      <td>3.000000e-06</td>\n",
       "      <td>0.787649</td>\n",
       "      <td>0.645993</td>\n",
       "      <td>0.719137</td>\n",
       "      <td>0.695405</td>\n",
       "      <td>[1.02799, 0.99297, 0.96351, 0.92789, 0.89032, ...</td>\n",
       "      <td>[0.50707, 0.52039, 0.53832, 0.55995, 0.59566, ...</td>\n",
       "      <td>[1.06019, 1.00558, 0.97351, 0.93928, 0.90197, ...</td>\n",
       "      <td>[0.48434, 0.51294, 0.54049, 0.5626, 0.58841, 0...</td>\n",
       "    </tr>\n",
       "    <tr>\n",
       "      <th>0</th>\n",
       "      <td>rubert_base_freeze_cls_top6_ep10_lr1e-5</td>\n",
       "      <td>405.729003</td>\n",
       "      <td>CrossEntropyLoss</td>\n",
       "      <td>1.000000e-05</td>\n",
       "      <td>0.886515</td>\n",
       "      <td>0.629704</td>\n",
       "      <td>0.911074</td>\n",
       "      <td>0.605237</td>\n",
       "      <td>[0.95064, 0.94153, 0.93114, 0.92057, 0.91644, ...</td>\n",
       "      <td>[0.60781, 0.61386, 0.61905, 0.62308, 0.61905, ...</td>\n",
       "      <td>[1.11139, 0.9408, 0.93733, 0.92899, 0.92296, 0...</td>\n",
       "      <td>[0.52087, 0.59647, 0.59536, 0.60067, 0.59918, ...</td>\n",
       "    </tr>\n",
       "    <tr>\n",
       "      <th>0</th>\n",
       "      <td>rubert_base_freeze_cls_top6_ep10_lr1e-5+ep5_lr...</td>\n",
       "      <td>196.886868</td>\n",
       "      <td>CrossEntropyLoss</td>\n",
       "      <td>3.000000e-05</td>\n",
       "      <td>0.891213</td>\n",
       "      <td>0.625896</td>\n",
       "      <td>0.893934</td>\n",
       "      <td>0.610178</td>\n",
       "      <td>[0.91383, 0.90004, 0.90342, 0.9, 0.89121]</td>\n",
       "      <td>[0.6305, 0.62791, 0.61921, 0.63188, 0.6259]</td>\n",
       "      <td>[0.90481, 0.90538, 0.90045, 0.89832, 0.89393]</td>\n",
       "      <td>[0.6103, 0.60697, 0.61487, 0.61265, 0.61018]</td>\n",
       "    </tr>\n",
       "    <tr>\n",
       "      <th>0</th>\n",
       "      <td>rubert_tiny_freeze_emb_cls_ep15_lr8e-4_gamma75</td>\n",
       "      <td>141.551475</td>\n",
       "      <td>NoneType</td>\n",
       "      <td>1.428657e-07</td>\n",
       "      <td>1.747256</td>\n",
       "      <td>0.614743</td>\n",
       "      <td>0.046346</td>\n",
       "      <td>0.987451</td>\n",
       "      <td>[0.78195, 0.86675, 1.06366, 1.19915, 1.33561, ...</td>\n",
       "      <td>[0.64988, 0.65201, 0.64227, 0.63022, 0.60987, ...</td>\n",
       "      <td>[0.88908, 0.57243, 0.35045, 0.22411, 0.16062, ...</td>\n",
       "      <td>[0.59474, 0.77038, 0.87379, 0.92759, 0.95168, ...</td>\n",
       "    </tr>\n",
       "    <tr>\n",
       "      <th>0</th>\n",
       "      <td>rubert_tiny_freeze_cls_ep15_lr3e-3_gamma75</td>\n",
       "      <td>84.873471</td>\n",
       "      <td>NoneType</td>\n",
       "      <td>5.357463e-07</td>\n",
       "      <td>0.857673</td>\n",
       "      <td>0.607288</td>\n",
       "      <td>0.864347</td>\n",
       "      <td>0.602841</td>\n",
       "      <td>[0.92251, 0.89501, 0.88302, 0.87648, 0.87191, ...</td>\n",
       "      <td>[0.55654, 0.57518, 0.58477, 0.5862, 0.59021, 0...</td>\n",
       "      <td>[0.95345, 0.90167, 0.88746, 0.87755, 0.87572, ...</td>\n",
       "      <td>[0.54158, 0.58681, 0.58649, 0.58977, 0.59125, ...</td>\n",
       "    </tr>\n",
       "    <tr>\n",
       "      <th>0</th>\n",
       "      <td>rubert_base_freeze_cls_ep10_lr1e-5</td>\n",
       "      <td>226.633366</td>\n",
       "      <td>CrossEntropyLoss</td>\n",
       "      <td>1.000000e-05</td>\n",
       "      <td>0.946604</td>\n",
       "      <td>0.605447</td>\n",
       "      <td>0.949604</td>\n",
       "      <td>0.598691</td>\n",
       "      <td>[1.19549, 0.97856, 0.94208, 0.93703, 0.94097, ...</td>\n",
       "      <td>[0.4232, 0.58045, 0.59767, 0.60717, 0.60573, 0...</td>\n",
       "      <td>[1.64798, 1.15789, 1.03554, 0.98945, 0.97381, ...</td>\n",
       "      <td>[0.27458, 0.51161, 0.57868, 0.59881, 0.59523, ...</td>\n",
       "    </tr>\n",
       "  </tbody>\n",
       "</table>\n",
       "</div>"
      ],
      "text/plain": [
       "                                                name  train_time  \\\n",
       "0          rubert_base_weighted_balance1_ep10_lr2e-5  664.335858   \n",
       "0                    rubert_base_ep10_lr3e-5_gamma90  789.921810   \n",
       "0  rubert_base_weighted_balance1_ep10_lr2e-5+ep10...  665.701195   \n",
       "0                rubert_base_balanced_ep10+10_lr3e-5  550.615229   \n",
       "0                    rubert_tiny_ep15_lr3e-5_gamma75   81.819096   \n",
       "0      rubert_base_freeze_cls_top6_noemb_ep10_lr2e-5  567.160578   \n",
       "0                    rubert_tiny_ep15_lr3e-5_gamma50   80.672499   \n",
       "0  rubert_base_freeze_cls_top6_noemb_ep10_lr2e-5+...  573.790415   \n",
       "0                             rubert_base_ep4_lr2e-5  313.314843   \n",
       "0             rubert_tiny_freeze_enc_cls_ep15_lr1e-5  146.357875   \n",
       "0                    rubert_base_balanced_ep4_lr4e-5  216.815594   \n",
       "0                            rubert_tiny_ep15_lr3e-5   84.419073   \n",
       "0                            rubert_tiny_ep15_lr3e-6   80.687391   \n",
       "0            rubert_base_freeze_cls_top6_ep10_lr1e-5  405.729003   \n",
       "0  rubert_base_freeze_cls_top6_ep10_lr1e-5+ep5_lr...  196.886868   \n",
       "0     rubert_tiny_freeze_emb_cls_ep15_lr8e-4_gamma75  141.551475   \n",
       "0         rubert_tiny_freeze_cls_ep15_lr3e-3_gamma75   84.873471   \n",
       "0                 rubert_base_freeze_cls_ep10_lr1e-5  226.633366   \n",
       "\n",
       "      loss_function  learning_rate  end_test_loss  end_test_eval  \\\n",
       "0  CrossEntropyLoss   2.000000e-05       1.050365       0.689420   \n",
       "0          NoneType   1.046035e-05       0.920411       0.686892   \n",
       "0  CrossEntropyLoss   8.000000e-06       1.488662       0.671851   \n",
       "0          NoneType   3.000000e-05       1.488500       0.670536   \n",
       "0          NoneType   4.009038e-07       0.810899       0.666794   \n",
       "0  CrossEntropyLoss   2.000000e-05       0.949296       0.663690   \n",
       "0          NoneType   9.155273e-10       0.778388       0.659627   \n",
       "0  CrossEntropyLoss   1.000000e-05       1.104489       0.657930   \n",
       "0          NoneType   2.000000e-05       0.845497       0.653482   \n",
       "0          NoneType   1.000000e-05       0.810099       0.652300   \n",
       "0          NoneType   4.000000e-05       0.920076       0.648289   \n",
       "0          NoneType   3.000000e-05       1.498644       0.648159   \n",
       "0          NoneType   3.000000e-06       0.787649       0.645993   \n",
       "0  CrossEntropyLoss   1.000000e-05       0.886515       0.629704   \n",
       "0  CrossEntropyLoss   3.000000e-05       0.891213       0.625896   \n",
       "0          NoneType   1.428657e-07       1.747256       0.614743   \n",
       "0          NoneType   5.357463e-07       0.857673       0.607288   \n",
       "0  CrossEntropyLoss   1.000000e-05       0.946604       0.605447   \n",
       "\n",
       "   end_train_loss  end_train_eval  \\\n",
       "0        0.265091        0.912302   \n",
       "0        0.351696        0.889575   \n",
       "0        0.080462        0.974926   \n",
       "0        0.132767        0.968510   \n",
       "0        0.528303        0.798641   \n",
       "0        0.521717        0.817811   \n",
       "0        0.676965        0.719121   \n",
       "0        0.312919        0.896986   \n",
       "0        0.829568        0.642292   \n",
       "0        0.514675        0.798765   \n",
       "0        0.660652        0.751375   \n",
       "0        0.122758        0.959536   \n",
       "0        0.719137        0.695405   \n",
       "0        0.911074        0.605237   \n",
       "0        0.893934        0.610178   \n",
       "0        0.046346        0.987451   \n",
       "0        0.864347        0.602841   \n",
       "0        0.949604        0.598691   \n",
       "\n",
       "                                   history_test_loss  \\\n",
       "0  [0.91506, 0.8972, 0.88218, 0.88173, 0.90824, 0...   \n",
       "0  [0.81054, 0.82058, 0.80676, 0.81373, 0.81999, ...   \n",
       "0  [1.17064, 1.17163, 1.24516, 1.26628, 1.36866, ...   \n",
       "0  [1.34528, 1.27255, 1.23034, 1.32239, 1.36291, ...   \n",
       "0  [0.81073, 0.78125, 0.77734, 0.77857, 0.7876, 0...   \n",
       "0  [0.93321, 0.92425, 0.90861, 0.89061, 0.89768, ...   \n",
       "0  [0.81073, 0.78908, 0.78093, 0.7806, 0.78153, 0...   \n",
       "0  [0.97514, 1.00167, 1.02289, 1.0422, 1.07174, 1...   \n",
       "0                [0.87523, 0.89607, 1.07348, 0.8455]   \n",
       "0  [1.01663, 0.98507, 0.96149, 0.93789, 0.91417, ...   \n",
       "0               [0.90084, 0.83361, 0.87564, 0.92008]   \n",
       "0  [0.81073, 0.77603, 0.7722, 0.78766, 0.82281, 0...   \n",
       "0  [1.02799, 0.99297, 0.96351, 0.92789, 0.89032, ...   \n",
       "0  [0.95064, 0.94153, 0.93114, 0.92057, 0.91644, ...   \n",
       "0          [0.91383, 0.90004, 0.90342, 0.9, 0.89121]   \n",
       "0  [0.78195, 0.86675, 1.06366, 1.19915, 1.33561, ...   \n",
       "0  [0.92251, 0.89501, 0.88302, 0.87648, 0.87191, ...   \n",
       "0  [1.19549, 0.97856, 0.94208, 0.93703, 0.94097, ...   \n",
       "\n",
       "                                   history_test_eval  \\\n",
       "0  [0.63914, 0.64417, 0.65828, 0.65102, 0.64439, ...   \n",
       "0  [0.64583, 0.66161, 0.68164, 0.68683, 0.69438, ...   \n",
       "0  [0.66817, 0.67963, 0.66241, 0.66379, 0.64939, ...   \n",
       "0  [0.64821, 0.65908, 0.65238, 0.62403, 0.66607, ...   \n",
       "0  [0.63781, 0.64985, 0.65889, 0.66724, 0.66609, ...   \n",
       "0  [0.61329, 0.62359, 0.64036, 0.63553, 0.63863, ...   \n",
       "0  [0.63781, 0.64628, 0.64886, 0.65259, 0.65431, ...   \n",
       "0  [0.66743, 0.66916, 0.6611, 0.66455, 0.64987, 0...   \n",
       "0                [0.6146, 0.61236, 0.44899, 0.65348]   \n",
       "0  [0.50908, 0.52555, 0.53718, 0.55409, 0.5697, 0...   \n",
       "0               [0.62433, 0.64315, 0.64717, 0.64829]   \n",
       "0  [0.63781, 0.65775, 0.66922, 0.6718, 0.67094, 0...   \n",
       "0  [0.50707, 0.52039, 0.53832, 0.55995, 0.59566, ...   \n",
       "0  [0.60781, 0.61386, 0.61905, 0.62308, 0.61905, ...   \n",
       "0        [0.6305, 0.62791, 0.61921, 0.63188, 0.6259]   \n",
       "0  [0.64988, 0.65201, 0.64227, 0.63022, 0.60987, ...   \n",
       "0  [0.55654, 0.57518, 0.58477, 0.5862, 0.59021, 0...   \n",
       "0  [0.4232, 0.58045, 0.59767, 0.60717, 0.60573, 0...   \n",
       "\n",
       "                                  history_train_loss  \\\n",
       "0  [1.0441, 0.87621, 0.81221, 0.74153, 0.63697, 0...   \n",
       "0  [0.92772, 0.80844, 0.70641, 0.6447, 0.5949, 0....   \n",
       "0  [0.20703, 0.18015, 0.15792, 0.14264, 0.12553, ...   \n",
       "0  [0.24596, 0.2216, 0.21642, 0.1699, 0.15324, 0....   \n",
       "0  [0.92728, 0.7626, 0.70039, 0.65345, 0.62534, 0...   \n",
       "0  [1.03076, 0.89112, 0.83194, 0.77583, 0.72885, ...   \n",
       "0  [0.92728, 0.76537, 0.72155, 0.69749, 0.69167, ...   \n",
       "0  [0.47712, 0.45034, 0.42656, 0.40578, 0.38779, ...   \n",
       "0               [1.00294, 0.89225, 0.87825, 0.82957]   \n",
       "0  [1.04851, 0.99458, 0.96636, 0.93974, 0.91298, ...   \n",
       "0               [0.99145, 0.84269, 0.77391, 0.66065]   \n",
       "0  [0.92728, 0.76131, 0.68418, 0.61027, 0.54613, ...   \n",
       "0  [1.06019, 1.00558, 0.97351, 0.93928, 0.90197, ...   \n",
       "0  [1.11139, 0.9408, 0.93733, 0.92899, 0.92296, 0...   \n",
       "0      [0.90481, 0.90538, 0.90045, 0.89832, 0.89393]   \n",
       "0  [0.88908, 0.57243, 0.35045, 0.22411, 0.16062, ...   \n",
       "0  [0.95345, 0.90167, 0.88746, 0.87755, 0.87572, ...   \n",
       "0  [1.64798, 1.15789, 1.03554, 0.98945, 0.97381, ...   \n",
       "\n",
       "                                  history_train_eval  \n",
       "0  [0.52075, 0.62833, 0.66724, 0.69034, 0.73505, ...  \n",
       "0  [0.60067, 0.66774, 0.72789, 0.76099, 0.78261, ...  \n",
       "0  [0.93404, 0.94269, 0.9501, 0.95726, 0.96084, 0...  \n",
       "0  [0.93366, 0.9407, 0.94118, 0.95988, 0.96403, 0...  \n",
       "0  [0.56902, 0.67421, 0.70677, 0.72994, 0.74978, ...  \n",
       "0  [0.56114, 0.62451, 0.66551, 0.69195, 0.7143, 0...  \n",
       "0  [0.56902, 0.67488, 0.69669, 0.70413, 0.71104, ...  \n",
       "0  [0.83523, 0.84783, 0.85413, 0.86191, 0.86981, ...  \n",
       "0               [0.54867, 0.61623, 0.62414, 0.64229]  \n",
       "0  [0.49397, 0.51875, 0.5418, 0.55539, 0.57248, 0...  \n",
       "0               [0.54661, 0.64511, 0.68667, 0.75137]  \n",
       "0  [0.56902, 0.67354, 0.71821, 0.75472, 0.79079, ...  \n",
       "0  [0.48434, 0.51294, 0.54049, 0.5626, 0.58841, 0...  \n",
       "0  [0.52087, 0.59647, 0.59536, 0.60067, 0.59918, ...  \n",
       "0       [0.6103, 0.60697, 0.61487, 0.61265, 0.61018]  \n",
       "0  [0.59474, 0.77038, 0.87379, 0.92759, 0.95168, ...  \n",
       "0  [0.54158, 0.58681, 0.58649, 0.58977, 0.59125, ...  \n",
       "0  [0.27458, 0.51161, 0.57868, 0.59881, 0.59523, ...  "
      ]
     },
     "execution_count": 80,
     "metadata": {},
     "output_type": "execute_result"
    }
   ],
   "source": [
    "all_results_useful.sort_values(by='end_test_eval', ascending=False)"
   ]
  },
  {
   "cell_type": "markdown",
   "metadata": {
    "collapsed": false
   },
   "source": [
    "Еще можно учитывать, что если дёргать ранний останов, то где-то там есть результаты 71% на тесте."
   ]
  },
  {
   "cell_type": "markdown",
   "metadata": {
    "collapsed": false
   },
   "source": [
    "## Inference"
   ]
  },
  {
   "cell_type": "code",
   "execution_count": 111,
   "metadata": {
    "collapsed": false
   },
   "outputs": [],
   "source": [
    "def predict(text, model, tokenize):\n",
    "    model.eval()\n",
    "    with torch.inference_mode():\n",
    "        text = clean_text(text)\n",
    "        tokenized = tokenize(text)\n",
    "        tokenized[0] = tokenized[0].to(device)\n",
    "        tokenized[1] = tokenized[1].to(device)\n",
    "        evaluated = model(tokenized[0], token_type_ids=None, attention_mask=tokenized[1])\n",
    "        print(class_names[torch.argmax(evaluated.logits, dim=-1).detach().cpu().numpy()[0]], text)"
   ]
  },
  {
   "cell_type": "markdown",
   "metadata": {
    "collapsed": false
   },
   "source": [
    "Натянем лучшие модели (их нужно заново проинициализировать, тк я их чищу)"
   ]
  },
  {
   "cell_type": "code",
   "execution_count": 136,
   "metadata": {
    "collapsed": false
   },
   "outputs": [],
   "source": [
    "examples = [\n",
    "    \"---NEGATIVE---\",\n",
    "    # negative\n",
    "    \"ах ты сука такая\",\n",
    "    \"чтоб ты сдох\",\n",
    "    \"гнидой был и гнидой остался\",\n",
    "    \"не брат ты мне, гнида черножопая\",\n",
    "    \"---NEUTRAL---\",\n",
    "    # neutral\n",
    "    \"сука - это собака женского пола\",\n",
    "    \"маты в русском языке существуют очень давно например слово 'хуй'\",\n",
    "    \"негры - это люди с черной кожей, такие же внутри как и мы с вами\",\n",
    "    \"путин\",\n",
    "    \"---POSITIVE---\",\n",
    "    # positive\n",
    "    \"спасибо за помощь\",\n",
    "    \"люблю тебя\",\n",
    "    \"ты мой лучший друг\",\n",
    "    \"ты мой брат, и я ценю это\",\n",
    "]"
   ]
  },
  {
   "cell_type": "code",
   "execution_count": 137,
   "metadata": {
    "collapsed": false
   },
   "outputs": [
    {
     "name": "stdout",
     "output_type": "stream",
     "text": [
      "neutral ---negative---\n",
      "negative ах ты сука такая\n",
      "negative чтоб ты сдох\n",
      "negative гнидой был и гнидой остался\n",
      "negative не брат ты мне, гнида черножопая\n",
      "neutral ---neutral---\n",
      "negative сука - это собака женского пола\n",
      "negative маты в русском языке существуют очень давно например слово 'хуй'\n",
      "neutral негры - это люди с черной кожей, такие же внутри как и мы с вами\n",
      "neutral путин\n",
      "negative ---positive---\n",
      "neutral спасибо за помощь\n",
      "positive люблю тебя\n",
      "positive ты мой лучший друг\n",
      "positive ты мой брат, и я ценю это\n"
     ]
    }
   ],
   "source": [
    "for example in examples:\n",
    "    predict(example, rubert_base_weighted_balance1, tokenize_base)"
   ]
  },
  {
   "cell_type": "code",
   "execution_count": 138,
   "metadata": {
    "collapsed": false
   },
   "outputs": [
    {
     "name": "stdout",
     "output_type": "stream",
     "text": [
      "neutral ---negative---\n",
      "negative ах ты сука такая\n",
      "negative чтоб ты сдох\n",
      "negative гнидой был и гнидой остался\n",
      "negative не брат ты мне, гнида черножопая\n",
      "neutral ---neutral---\n",
      "negative сука - это собака женского пола\n",
      "negative маты в русском языке существуют очень давно например слово 'хуй'\n",
      "neutral негры - это люди с черной кожей, такие же внутри как и мы с вами\n",
      "negative путин\n",
      "negative ---positive---\n",
      "neutral спасибо за помощь\n",
      "positive люблю тебя\n",
      "positive ты мой лучший друг\n",
      "positive ты мой брат, и я ценю это\n"
     ]
    }
   ],
   "source": [
    "for example in examples:\n",
    "    predict(example, rubert_base2, tokenize_base)\n"
   ]
  },
  {
   "cell_type": "code",
   "execution_count": 139,
   "metadata": {
    "collapsed": false
   },
   "outputs": [
    {
     "name": "stdout",
     "output_type": "stream",
     "text": [
      "neutral ---negative---\n",
      "negative ах ты сука такая\n",
      "negative чтоб ты сдох\n",
      "neutral гнидой был и гнидой остался\n",
      "negative не брат ты мне, гнида черножопая\n",
      "neutral ---neutral---\n",
      "neutral сука - это собака женского пола\n",
      "neutral маты в русском языке существуют очень давно например слово 'хуй'\n",
      "negative негры - это люди с черной кожей, такие же внутри как и мы с вами\n",
      "neutral путин\n",
      "neutral ---positive---\n",
      "neutral спасибо за помощь\n",
      "positive люблю тебя\n",
      "positive ты мой лучший друг\n",
      "neutral ты мой брат, и я ценю это\n"
     ]
    }
   ],
   "source": [
    "for example in examples:\n",
    "    predict(example, rubert_tiny4, tokenize_tiny)"
   ]
  }
 ],
 "metadata": {
  "kernelspec": {
   "display_name": "Python 3",
   "language": "python",
   "name": "python3"
  },
  "language_info": {
   "codemirror_mode": {
    "name": "ipython",
    "version": 3
   },
   "file_extension": ".py",
   "mimetype": "text/x-python",
   "name": "python",
   "nbconvert_exporter": "python",
   "pygments_lexer": "ipython3",
   "version": "3.12.7"
  }
 },
 "nbformat": 4,
 "nbformat_minor": 0
}
